{
  "nbformat": 4,
  "nbformat_minor": 0,
  "metadata": {
    "colab": {
      "provenance": []
    },
    "kernelspec": {
      "name": "python3",
      "display_name": "Python 3"
    },
    "language_info": {
      "name": "python"
    }
  },
  "cells": [
    {
      "cell_type": "markdown",
      "source": [
        "Импортируем нужные библиотеки."
      ],
      "metadata": {
        "id": "VMdpyUi-NDtY"
      }
    },
    {
      "cell_type": "code",
      "execution_count": null,
      "metadata": {
        "id": "Q437kE4YyQPm"
      },
      "outputs": [],
      "source": [
        "import pandas as pd\n",
        "import scipy.stats as stats\n",
        "import seaborn as sns\n",
        "from scipy.stats import shapiro"
      ]
    },
    {
      "cell_type": "markdown",
      "source": [
        "Импортируем датасет.\n",
        "\n"
      ],
      "metadata": {
        "id": "c3w7phAZM7by"
      }
    },
    {
      "cell_type": "code",
      "source": [
        "data = pd.read_csv('/content/data_rrg_big.csv')"
      ],
      "metadata": {
        "id": "QrekIl5qyZxg"
      },
      "execution_count": null,
      "outputs": []
    },
    {
      "cell_type": "markdown",
      "source": [
        "# Так выглядит изначальный датасет."
      ],
      "metadata": {
        "id": "CZAmodH_NMDE"
      }
    },
    {
      "cell_type": "code",
      "source": [
        "data"
      ],
      "metadata": {
        "colab": {
          "base_uri": "https://localhost:8080/",
          "height": 444
        },
        "id": "BzwURqEmMPXg",
        "outputId": "3cbc88f3-3ffb-4c37-957d-47bd114ec40b"
      },
      "execution_count": null,
      "outputs": [
        {
          "output_type": "execute_result",
          "data": {
            "text/plain": [
              "              id  rrg_mean_лежа  rrg_mean_стоя  rrg_median_лежа  \\\n",
              "0       АГ-001_1       0.911795       0.852760            0.912   \n",
              "1       АГ-002_1       0.729976       0.659733            0.728   \n",
              "2       АГ-003_1       0.948242       0.702628            0.948   \n",
              "3       АГ-004_1       1.166237       0.889435            1.184   \n",
              "4       АГ-005_1       0.730133       0.663203            0.728   \n",
              "..           ...            ...            ...              ...   \n",
              "289    IM-104_ПС            NaN       0.614224              NaN   \n",
              "290    IM-108_П4       0.874383            NaN            0.880   \n",
              "291    IM-108_ПС            NaN       0.721575              NaN   \n",
              "292  IM-111_4ПС2       1.007668       1.045978            1.012   \n",
              "293   IM005_4ПС2       0.679039       0.654125            0.680   \n",
              "\n",
              "     rrg_median_стоя  rrg_std_лежа  rrg_std_стоя  rrg_min_лежа  rrg_min_стоя  \\\n",
              "0              0.852      0.019906      0.028938         0.812         0.636   \n",
              "1              0.660      0.032458      0.029800         0.580         0.576   \n",
              "2              0.704      0.038755      0.047599         0.796         0.512   \n",
              "3              0.894      0.070413      0.058731         0.896         0.716   \n",
              "4              0.664      0.027302      0.031371         0.652         0.552   \n",
              "..               ...           ...           ...           ...           ...   \n",
              "289            0.612           NaN      0.031489           NaN         0.392   \n",
              "290              NaN      0.072025           NaN         0.372           NaN   \n",
              "291            0.748           NaN      0.118658           NaN         0.380   \n",
              "292            1.044      0.031950      0.023522         0.840         0.960   \n",
              "293            0.648      0.046341      0.092983         0.408         0.464   \n",
              "\n",
              "     rrg_max_лежа  rrg_max_стоя  rrg_trim_mean_лежа  rrg_trim_mean_стоя  \\\n",
              "0           0.948         1.056            0.913706            0.852877   \n",
              "1           0.856         0.760            0.728587            0.659980   \n",
              "2           1.084         1.572            0.948345            0.702581   \n",
              "3           1.300         1.032            1.174049            0.890913   \n",
              "4           0.884         0.820            0.729099            0.663184   \n",
              "..            ...           ...                 ...                 ...   \n",
              "289           NaN         0.940                 NaN            0.611474   \n",
              "290         1.228           NaN            0.880785                 NaN   \n",
              "291           NaN         1.000                 NaN            0.736784   \n",
              "292         1.088         1.112            1.008929            1.046059   \n",
              "293         0.824         2.768            0.680439            0.649824   \n",
              "\n",
              "     rrg_iqr_лежа  rrg_iqr_стоя  rrg_mad_лежа  rrg_mad_стоя patient  \n",
              "0           0.020         0.032         0.012         0.016      AG  \n",
              "1           0.040         0.040         0.020         0.020      AG  \n",
              "2           0.052         0.056         0.024         0.028      AG  \n",
              "3           0.084         0.072         0.040         0.038      AG  \n",
              "4           0.036         0.036         0.016         0.016      AG  \n",
              "..            ...           ...           ...           ...     ...  \n",
              "289           NaN         0.012           NaN         0.008     IM6  \n",
              "290         0.024           NaN         0.012           NaN     IM6  \n",
              "291           NaN         0.104           NaN         0.052     IM6  \n",
              "292         0.048         0.032         0.024         0.016     IM6  \n",
              "293         0.028         0.028         0.014         0.012     IM6  \n",
              "\n",
              "[294 rows x 18 columns]"
            ],
            "text/html": [
              "\n",
              "  <div id=\"df-17579738-2ea5-4f27-acbf-e0c6b73b1bab\" class=\"colab-df-container\">\n",
              "    <div>\n",
              "<style scoped>\n",
              "    .dataframe tbody tr th:only-of-type {\n",
              "        vertical-align: middle;\n",
              "    }\n",
              "\n",
              "    .dataframe tbody tr th {\n",
              "        vertical-align: top;\n",
              "    }\n",
              "\n",
              "    .dataframe thead th {\n",
              "        text-align: right;\n",
              "    }\n",
              "</style>\n",
              "<table border=\"1\" class=\"dataframe\">\n",
              "  <thead>\n",
              "    <tr style=\"text-align: right;\">\n",
              "      <th></th>\n",
              "      <th>id</th>\n",
              "      <th>rrg_mean_лежа</th>\n",
              "      <th>rrg_mean_стоя</th>\n",
              "      <th>rrg_median_лежа</th>\n",
              "      <th>rrg_median_стоя</th>\n",
              "      <th>rrg_std_лежа</th>\n",
              "      <th>rrg_std_стоя</th>\n",
              "      <th>rrg_min_лежа</th>\n",
              "      <th>rrg_min_стоя</th>\n",
              "      <th>rrg_max_лежа</th>\n",
              "      <th>rrg_max_стоя</th>\n",
              "      <th>rrg_trim_mean_лежа</th>\n",
              "      <th>rrg_trim_mean_стоя</th>\n",
              "      <th>rrg_iqr_лежа</th>\n",
              "      <th>rrg_iqr_стоя</th>\n",
              "      <th>rrg_mad_лежа</th>\n",
              "      <th>rrg_mad_стоя</th>\n",
              "      <th>patient</th>\n",
              "    </tr>\n",
              "  </thead>\n",
              "  <tbody>\n",
              "    <tr>\n",
              "      <th>0</th>\n",
              "      <td>АГ-001_1</td>\n",
              "      <td>0.911795</td>\n",
              "      <td>0.852760</td>\n",
              "      <td>0.912</td>\n",
              "      <td>0.852</td>\n",
              "      <td>0.019906</td>\n",
              "      <td>0.028938</td>\n",
              "      <td>0.812</td>\n",
              "      <td>0.636</td>\n",
              "      <td>0.948</td>\n",
              "      <td>1.056</td>\n",
              "      <td>0.913706</td>\n",
              "      <td>0.852877</td>\n",
              "      <td>0.020</td>\n",
              "      <td>0.032</td>\n",
              "      <td>0.012</td>\n",
              "      <td>0.016</td>\n",
              "      <td>AG</td>\n",
              "    </tr>\n",
              "    <tr>\n",
              "      <th>1</th>\n",
              "      <td>АГ-002_1</td>\n",
              "      <td>0.729976</td>\n",
              "      <td>0.659733</td>\n",
              "      <td>0.728</td>\n",
              "      <td>0.660</td>\n",
              "      <td>0.032458</td>\n",
              "      <td>0.029800</td>\n",
              "      <td>0.580</td>\n",
              "      <td>0.576</td>\n",
              "      <td>0.856</td>\n",
              "      <td>0.760</td>\n",
              "      <td>0.728587</td>\n",
              "      <td>0.659980</td>\n",
              "      <td>0.040</td>\n",
              "      <td>0.040</td>\n",
              "      <td>0.020</td>\n",
              "      <td>0.020</td>\n",
              "      <td>AG</td>\n",
              "    </tr>\n",
              "    <tr>\n",
              "      <th>2</th>\n",
              "      <td>АГ-003_1</td>\n",
              "      <td>0.948242</td>\n",
              "      <td>0.702628</td>\n",
              "      <td>0.948</td>\n",
              "      <td>0.704</td>\n",
              "      <td>0.038755</td>\n",
              "      <td>0.047599</td>\n",
              "      <td>0.796</td>\n",
              "      <td>0.512</td>\n",
              "      <td>1.084</td>\n",
              "      <td>1.572</td>\n",
              "      <td>0.948345</td>\n",
              "      <td>0.702581</td>\n",
              "      <td>0.052</td>\n",
              "      <td>0.056</td>\n",
              "      <td>0.024</td>\n",
              "      <td>0.028</td>\n",
              "      <td>AG</td>\n",
              "    </tr>\n",
              "    <tr>\n",
              "      <th>3</th>\n",
              "      <td>АГ-004_1</td>\n",
              "      <td>1.166237</td>\n",
              "      <td>0.889435</td>\n",
              "      <td>1.184</td>\n",
              "      <td>0.894</td>\n",
              "      <td>0.070413</td>\n",
              "      <td>0.058731</td>\n",
              "      <td>0.896</td>\n",
              "      <td>0.716</td>\n",
              "      <td>1.300</td>\n",
              "      <td>1.032</td>\n",
              "      <td>1.174049</td>\n",
              "      <td>0.890913</td>\n",
              "      <td>0.084</td>\n",
              "      <td>0.072</td>\n",
              "      <td>0.040</td>\n",
              "      <td>0.038</td>\n",
              "      <td>AG</td>\n",
              "    </tr>\n",
              "    <tr>\n",
              "      <th>4</th>\n",
              "      <td>АГ-005_1</td>\n",
              "      <td>0.730133</td>\n",
              "      <td>0.663203</td>\n",
              "      <td>0.728</td>\n",
              "      <td>0.664</td>\n",
              "      <td>0.027302</td>\n",
              "      <td>0.031371</td>\n",
              "      <td>0.652</td>\n",
              "      <td>0.552</td>\n",
              "      <td>0.884</td>\n",
              "      <td>0.820</td>\n",
              "      <td>0.729099</td>\n",
              "      <td>0.663184</td>\n",
              "      <td>0.036</td>\n",
              "      <td>0.036</td>\n",
              "      <td>0.016</td>\n",
              "      <td>0.016</td>\n",
              "      <td>AG</td>\n",
              "    </tr>\n",
              "    <tr>\n",
              "      <th>...</th>\n",
              "      <td>...</td>\n",
              "      <td>...</td>\n",
              "      <td>...</td>\n",
              "      <td>...</td>\n",
              "      <td>...</td>\n",
              "      <td>...</td>\n",
              "      <td>...</td>\n",
              "      <td>...</td>\n",
              "      <td>...</td>\n",
              "      <td>...</td>\n",
              "      <td>...</td>\n",
              "      <td>...</td>\n",
              "      <td>...</td>\n",
              "      <td>...</td>\n",
              "      <td>...</td>\n",
              "      <td>...</td>\n",
              "      <td>...</td>\n",
              "      <td>...</td>\n",
              "    </tr>\n",
              "    <tr>\n",
              "      <th>289</th>\n",
              "      <td>IM-104_ПС</td>\n",
              "      <td>NaN</td>\n",
              "      <td>0.614224</td>\n",
              "      <td>NaN</td>\n",
              "      <td>0.612</td>\n",
              "      <td>NaN</td>\n",
              "      <td>0.031489</td>\n",
              "      <td>NaN</td>\n",
              "      <td>0.392</td>\n",
              "      <td>NaN</td>\n",
              "      <td>0.940</td>\n",
              "      <td>NaN</td>\n",
              "      <td>0.611474</td>\n",
              "      <td>NaN</td>\n",
              "      <td>0.012</td>\n",
              "      <td>NaN</td>\n",
              "      <td>0.008</td>\n",
              "      <td>IM6</td>\n",
              "    </tr>\n",
              "    <tr>\n",
              "      <th>290</th>\n",
              "      <td>IM-108_П4</td>\n",
              "      <td>0.874383</td>\n",
              "      <td>NaN</td>\n",
              "      <td>0.880</td>\n",
              "      <td>NaN</td>\n",
              "      <td>0.072025</td>\n",
              "      <td>NaN</td>\n",
              "      <td>0.372</td>\n",
              "      <td>NaN</td>\n",
              "      <td>1.228</td>\n",
              "      <td>NaN</td>\n",
              "      <td>0.880785</td>\n",
              "      <td>NaN</td>\n",
              "      <td>0.024</td>\n",
              "      <td>NaN</td>\n",
              "      <td>0.012</td>\n",
              "      <td>NaN</td>\n",
              "      <td>IM6</td>\n",
              "    </tr>\n",
              "    <tr>\n",
              "      <th>291</th>\n",
              "      <td>IM-108_ПС</td>\n",
              "      <td>NaN</td>\n",
              "      <td>0.721575</td>\n",
              "      <td>NaN</td>\n",
              "      <td>0.748</td>\n",
              "      <td>NaN</td>\n",
              "      <td>0.118658</td>\n",
              "      <td>NaN</td>\n",
              "      <td>0.380</td>\n",
              "      <td>NaN</td>\n",
              "      <td>1.000</td>\n",
              "      <td>NaN</td>\n",
              "      <td>0.736784</td>\n",
              "      <td>NaN</td>\n",
              "      <td>0.104</td>\n",
              "      <td>NaN</td>\n",
              "      <td>0.052</td>\n",
              "      <td>IM6</td>\n",
              "    </tr>\n",
              "    <tr>\n",
              "      <th>292</th>\n",
              "      <td>IM-111_4ПС2</td>\n",
              "      <td>1.007668</td>\n",
              "      <td>1.045978</td>\n",
              "      <td>1.012</td>\n",
              "      <td>1.044</td>\n",
              "      <td>0.031950</td>\n",
              "      <td>0.023522</td>\n",
              "      <td>0.840</td>\n",
              "      <td>0.960</td>\n",
              "      <td>1.088</td>\n",
              "      <td>1.112</td>\n",
              "      <td>1.008929</td>\n",
              "      <td>1.046059</td>\n",
              "      <td>0.048</td>\n",
              "      <td>0.032</td>\n",
              "      <td>0.024</td>\n",
              "      <td>0.016</td>\n",
              "      <td>IM6</td>\n",
              "    </tr>\n",
              "    <tr>\n",
              "      <th>293</th>\n",
              "      <td>IM005_4ПС2</td>\n",
              "      <td>0.679039</td>\n",
              "      <td>0.654125</td>\n",
              "      <td>0.680</td>\n",
              "      <td>0.648</td>\n",
              "      <td>0.046341</td>\n",
              "      <td>0.092983</td>\n",
              "      <td>0.408</td>\n",
              "      <td>0.464</td>\n",
              "      <td>0.824</td>\n",
              "      <td>2.768</td>\n",
              "      <td>0.680439</td>\n",
              "      <td>0.649824</td>\n",
              "      <td>0.028</td>\n",
              "      <td>0.028</td>\n",
              "      <td>0.014</td>\n",
              "      <td>0.012</td>\n",
              "      <td>IM6</td>\n",
              "    </tr>\n",
              "  </tbody>\n",
              "</table>\n",
              "<p>294 rows × 18 columns</p>\n",
              "</div>\n",
              "    <div class=\"colab-df-buttons\">\n",
              "\n",
              "  <div class=\"colab-df-container\">\n",
              "    <button class=\"colab-df-convert\" onclick=\"convertToInteractive('df-17579738-2ea5-4f27-acbf-e0c6b73b1bab')\"\n",
              "            title=\"Convert this dataframe to an interactive table.\"\n",
              "            style=\"display:none;\">\n",
              "\n",
              "  <svg xmlns=\"http://www.w3.org/2000/svg\" height=\"24px\" viewBox=\"0 -960 960 960\">\n",
              "    <path d=\"M120-120v-720h720v720H120Zm60-500h600v-160H180v160Zm220 220h160v-160H400v160Zm0 220h160v-160H400v160ZM180-400h160v-160H180v160Zm440 0h160v-160H620v160ZM180-180h160v-160H180v160Zm440 0h160v-160H620v160Z\"/>\n",
              "  </svg>\n",
              "    </button>\n",
              "\n",
              "  <style>\n",
              "    .colab-df-container {\n",
              "      display:flex;\n",
              "      gap: 12px;\n",
              "    }\n",
              "\n",
              "    .colab-df-convert {\n",
              "      background-color: #E8F0FE;\n",
              "      border: none;\n",
              "      border-radius: 50%;\n",
              "      cursor: pointer;\n",
              "      display: none;\n",
              "      fill: #1967D2;\n",
              "      height: 32px;\n",
              "      padding: 0 0 0 0;\n",
              "      width: 32px;\n",
              "    }\n",
              "\n",
              "    .colab-df-convert:hover {\n",
              "      background-color: #E2EBFA;\n",
              "      box-shadow: 0px 1px 2px rgba(60, 64, 67, 0.3), 0px 1px 3px 1px rgba(60, 64, 67, 0.15);\n",
              "      fill: #174EA6;\n",
              "    }\n",
              "\n",
              "    .colab-df-buttons div {\n",
              "      margin-bottom: 4px;\n",
              "    }\n",
              "\n",
              "    [theme=dark] .colab-df-convert {\n",
              "      background-color: #3B4455;\n",
              "      fill: #D2E3FC;\n",
              "    }\n",
              "\n",
              "    [theme=dark] .colab-df-convert:hover {\n",
              "      background-color: #434B5C;\n",
              "      box-shadow: 0px 1px 3px 1px rgba(0, 0, 0, 0.15);\n",
              "      filter: drop-shadow(0px 1px 2px rgba(0, 0, 0, 0.3));\n",
              "      fill: #FFFFFF;\n",
              "    }\n",
              "  </style>\n",
              "\n",
              "    <script>\n",
              "      const buttonEl =\n",
              "        document.querySelector('#df-17579738-2ea5-4f27-acbf-e0c6b73b1bab button.colab-df-convert');\n",
              "      buttonEl.style.display =\n",
              "        google.colab.kernel.accessAllowed ? 'block' : 'none';\n",
              "\n",
              "      async function convertToInteractive(key) {\n",
              "        const element = document.querySelector('#df-17579738-2ea5-4f27-acbf-e0c6b73b1bab');\n",
              "        const dataTable =\n",
              "          await google.colab.kernel.invokeFunction('convertToInteractive',\n",
              "                                                    [key], {});\n",
              "        if (!dataTable) return;\n",
              "\n",
              "        const docLinkHtml = 'Like what you see? Visit the ' +\n",
              "          '<a target=\"_blank\" href=https://colab.research.google.com/notebooks/data_table.ipynb>data table notebook</a>'\n",
              "          + ' to learn more about interactive tables.';\n",
              "        element.innerHTML = '';\n",
              "        dataTable['output_type'] = 'display_data';\n",
              "        await google.colab.output.renderOutput(dataTable, element);\n",
              "        const docLink = document.createElement('div');\n",
              "        docLink.innerHTML = docLinkHtml;\n",
              "        element.appendChild(docLink);\n",
              "      }\n",
              "    </script>\n",
              "  </div>\n",
              "\n",
              "\n",
              "<div id=\"df-34b1f86a-f9de-4cea-b663-1f88bdd0b4e7\">\n",
              "  <button class=\"colab-df-quickchart\" onclick=\"quickchart('df-34b1f86a-f9de-4cea-b663-1f88bdd0b4e7')\"\n",
              "            title=\"Suggest charts\"\n",
              "            style=\"display:none;\">\n",
              "\n",
              "<svg xmlns=\"http://www.w3.org/2000/svg\" height=\"24px\"viewBox=\"0 0 24 24\"\n",
              "     width=\"24px\">\n",
              "    <g>\n",
              "        <path d=\"M19 3H5c-1.1 0-2 .9-2 2v14c0 1.1.9 2 2 2h14c1.1 0 2-.9 2-2V5c0-1.1-.9-2-2-2zM9 17H7v-7h2v7zm4 0h-2V7h2v10zm4 0h-2v-4h2v4z\"/>\n",
              "    </g>\n",
              "</svg>\n",
              "  </button>\n",
              "\n",
              "<style>\n",
              "  .colab-df-quickchart {\n",
              "      --bg-color: #E8F0FE;\n",
              "      --fill-color: #1967D2;\n",
              "      --hover-bg-color: #E2EBFA;\n",
              "      --hover-fill-color: #174EA6;\n",
              "      --disabled-fill-color: #AAA;\n",
              "      --disabled-bg-color: #DDD;\n",
              "  }\n",
              "\n",
              "  [theme=dark] .colab-df-quickchart {\n",
              "      --bg-color: #3B4455;\n",
              "      --fill-color: #D2E3FC;\n",
              "      --hover-bg-color: #434B5C;\n",
              "      --hover-fill-color: #FFFFFF;\n",
              "      --disabled-bg-color: #3B4455;\n",
              "      --disabled-fill-color: #666;\n",
              "  }\n",
              "\n",
              "  .colab-df-quickchart {\n",
              "    background-color: var(--bg-color);\n",
              "    border: none;\n",
              "    border-radius: 50%;\n",
              "    cursor: pointer;\n",
              "    display: none;\n",
              "    fill: var(--fill-color);\n",
              "    height: 32px;\n",
              "    padding: 0;\n",
              "    width: 32px;\n",
              "  }\n",
              "\n",
              "  .colab-df-quickchart:hover {\n",
              "    background-color: var(--hover-bg-color);\n",
              "    box-shadow: 0 1px 2px rgba(60, 64, 67, 0.3), 0 1px 3px 1px rgba(60, 64, 67, 0.15);\n",
              "    fill: var(--button-hover-fill-color);\n",
              "  }\n",
              "\n",
              "  .colab-df-quickchart-complete:disabled,\n",
              "  .colab-df-quickchart-complete:disabled:hover {\n",
              "    background-color: var(--disabled-bg-color);\n",
              "    fill: var(--disabled-fill-color);\n",
              "    box-shadow: none;\n",
              "  }\n",
              "\n",
              "  .colab-df-spinner {\n",
              "    border: 2px solid var(--fill-color);\n",
              "    border-color: transparent;\n",
              "    border-bottom-color: var(--fill-color);\n",
              "    animation:\n",
              "      spin 1s steps(1) infinite;\n",
              "  }\n",
              "\n",
              "  @keyframes spin {\n",
              "    0% {\n",
              "      border-color: transparent;\n",
              "      border-bottom-color: var(--fill-color);\n",
              "      border-left-color: var(--fill-color);\n",
              "    }\n",
              "    20% {\n",
              "      border-color: transparent;\n",
              "      border-left-color: var(--fill-color);\n",
              "      border-top-color: var(--fill-color);\n",
              "    }\n",
              "    30% {\n",
              "      border-color: transparent;\n",
              "      border-left-color: var(--fill-color);\n",
              "      border-top-color: var(--fill-color);\n",
              "      border-right-color: var(--fill-color);\n",
              "    }\n",
              "    40% {\n",
              "      border-color: transparent;\n",
              "      border-right-color: var(--fill-color);\n",
              "      border-top-color: var(--fill-color);\n",
              "    }\n",
              "    60% {\n",
              "      border-color: transparent;\n",
              "      border-right-color: var(--fill-color);\n",
              "    }\n",
              "    80% {\n",
              "      border-color: transparent;\n",
              "      border-right-color: var(--fill-color);\n",
              "      border-bottom-color: var(--fill-color);\n",
              "    }\n",
              "    90% {\n",
              "      border-color: transparent;\n",
              "      border-bottom-color: var(--fill-color);\n",
              "    }\n",
              "  }\n",
              "</style>\n",
              "\n",
              "  <script>\n",
              "    async function quickchart(key) {\n",
              "      const quickchartButtonEl =\n",
              "        document.querySelector('#' + key + ' button');\n",
              "      quickchartButtonEl.disabled = true;  // To prevent multiple clicks.\n",
              "      quickchartButtonEl.classList.add('colab-df-spinner');\n",
              "      try {\n",
              "        const charts = await google.colab.kernel.invokeFunction(\n",
              "            'suggestCharts', [key], {});\n",
              "      } catch (error) {\n",
              "        console.error('Error during call to suggestCharts:', error);\n",
              "      }\n",
              "      quickchartButtonEl.classList.remove('colab-df-spinner');\n",
              "      quickchartButtonEl.classList.add('colab-df-quickchart-complete');\n",
              "    }\n",
              "    (() => {\n",
              "      let quickchartButtonEl =\n",
              "        document.querySelector('#df-34b1f86a-f9de-4cea-b663-1f88bdd0b4e7 button');\n",
              "      quickchartButtonEl.style.display =\n",
              "        google.colab.kernel.accessAllowed ? 'block' : 'none';\n",
              "    })();\n",
              "  </script>\n",
              "</div>\n",
              "    </div>\n",
              "  </div>\n"
            ],
            "application/vnd.google.colaboratory.intrinsic+json": {
              "type": "dataframe",
              "variable_name": "data",
              "summary": "{\n  \"name\": \"data\",\n  \"rows\": 294,\n  \"fields\": [\n    {\n      \"column\": \"id\",\n      \"properties\": {\n        \"dtype\": \"string\",\n        \"num_unique_values\": 293,\n        \"samples\": [\n          \"30134\",\n          \"IM-052_4\\u041f\\u0421\",\n          \"\\u0410\\u0413-046_1\"\n        ],\n        \"semantic_type\": \"\",\n        \"description\": \"\"\n      }\n    },\n    {\n      \"column\": \"rrg_mean_\\u043b\\u0435\\u0436\\u0430\",\n      \"properties\": {\n        \"dtype\": \"number\",\n        \"std\": 0.15365741741674227,\n        \"min\": 0.5020075700227101,\n        \"max\": 1.7850731707317071,\n        \"num_unique_values\": 275,\n        \"samples\": [\n          0.994002989536622,\n          1.101667774086379,\n          0.6268175865294667\n        ],\n        \"semantic_type\": \"\",\n        \"description\": \"\"\n      }\n    },\n    {\n      \"column\": \"rrg_mean_\\u0441\\u0442\\u043e\\u044f\",\n      \"properties\": {\n        \"dtype\": \"number\",\n        \"std\": 0.13703138543713617,\n        \"min\": 0.3915957696827261,\n        \"max\": 1.1387275922671352,\n        \"num_unique_values\": 134,\n        \"samples\": [\n          0.8852523117569352,\n          0.5822991533396048,\n          0.8860597826086958\n        ],\n        \"semantic_type\": \"\",\n        \"description\": \"\"\n      }\n    },\n    {\n      \"column\": \"rrg_median_\\u043b\\u0435\\u0436\\u0430\",\n      \"properties\": {\n        \"dtype\": \"number\",\n        \"std\": 0.1487655496904561,\n        \"min\": 0.504,\n        \"max\": 1.36,\n        \"num_unique_values\": 124,\n        \"samples\": [\n          0.824,\n          1.12,\n          1.044\n        ],\n        \"semantic_type\": \"\",\n        \"description\": \"\"\n      }\n    },\n    {\n      \"column\": \"rrg_median_\\u0441\\u0442\\u043e\\u044f\",\n      \"properties\": {\n        \"dtype\": \"number\",\n        \"std\": 0.13920435999602027,\n        \"min\": 0.364,\n        \"max\": 1.132,\n        \"num_unique_values\": 87,\n        \"samples\": [\n          0.82,\n          0.852,\n          1.02\n        ],\n        \"semantic_type\": \"\",\n        \"description\": \"\"\n      }\n    },\n    {\n      \"column\": \"rrg_std_\\u043b\\u0435\\u0436\\u0430\",\n      \"properties\": {\n        \"dtype\": \"number\",\n        \"std\": 0.10198840003562772,\n        \"min\": 0.0101564997959872,\n        \"max\": 1.4378903090386093,\n        \"num_unique_values\": 275,\n        \"samples\": [\n          0.1186274043756062,\n          0.0521210282775989,\n          0.1462005492099834\n        ],\n        \"semantic_type\": \"\",\n        \"description\": \"\"\n      }\n    },\n    {\n      \"column\": \"rrg_std_\\u0441\\u0442\\u043e\\u044f\",\n      \"properties\": {\n        \"dtype\": \"number\",\n        \"std\": 0.0429343775541253,\n        \"min\": 0.010151559968367,\n        \"max\": 0.3454281331788346,\n        \"num_unique_values\": 134,\n        \"samples\": [\n          0.0266574589374758,\n          0.0322914702088138,\n          0.0474025942854047\n        ],\n        \"semantic_type\": \"\",\n        \"description\": \"\"\n      }\n    },\n    {\n      \"column\": \"rrg_min_\\u043b\\u0435\\u0436\\u0430\",\n      \"properties\": {\n        \"dtype\": \"number\",\n        \"std\": 0.1808271476814348,\n        \"min\": 0.2,\n        \"max\": 1.092,\n        \"num_unique_values\": 132,\n        \"samples\": [\n          0.6,\n          0.22,\n          0.392\n        ],\n        \"semantic_type\": \"\",\n        \"description\": \"\"\n      }\n    },\n    {\n      \"column\": \"rrg_min_\\u0441\\u0442\\u043e\\u044f\",\n      \"properties\": {\n        \"dtype\": \"number\",\n        \"std\": 0.1463047063798699,\n        \"min\": 0.28,\n        \"max\": 0.96,\n        \"num_unique_values\": 85,\n        \"samples\": [\n          0.46,\n          0.636,\n          0.728\n        ],\n        \"semantic_type\": \"\",\n        \"description\": \"\"\n      }\n    },\n    {\n      \"column\": \"rrg_max_\\u043b\\u0435\\u0436\\u0430\",\n      \"properties\": {\n        \"dtype\": \"number\",\n        \"std\": 1.649224680987841,\n        \"min\": 0.528,\n        \"max\": 20.796,\n        \"num_unique_values\": 168,\n        \"samples\": [\n          1.508,\n          1.36,\n          11.988\n        ],\n        \"semantic_type\": \"\",\n        \"description\": \"\"\n      }\n    },\n    {\n      \"column\": \"rrg_max_\\u0441\\u0442\\u043e\\u044f\",\n      \"properties\": {\n        \"dtype\": \"number\",\n        \"std\": 1.0605348988846852,\n        \"min\": 0.5,\n        \"max\": 9.308,\n        \"num_unique_values\": 98,\n        \"samples\": [\n          1.92,\n          1.76,\n          1.12\n        ],\n        \"semantic_type\": \"\",\n        \"description\": \"\"\n      }\n    },\n    {\n      \"column\": \"rrg_trim_mean_\\u043b\\u0435\\u0436\\u0430\",\n      \"properties\": {\n        \"dtype\": \"number\",\n        \"std\": 0.14999243820697047,\n        \"min\": 0.5024938505203406,\n        \"max\": 1.5002424242424242,\n        \"num_unique_values\": 275,\n        \"samples\": [\n          0.9839404096834264,\n          1.1043319502074689,\n          0.6130175029171528\n        ],\n        \"semantic_type\": \"\",\n        \"description\": \"\"\n      }\n    },\n    {\n      \"column\": \"rrg_trim_mean_\\u0441\\u0442\\u043e\\u044f\",\n      \"properties\": {\n        \"dtype\": \"number\",\n        \"std\": 0.13839751132531694,\n        \"min\": 0.3787900146842877,\n        \"max\": 1.1359037199124729,\n        \"num_unique_values\": 134,\n        \"samples\": [\n          0.8868467874794069,\n          0.5805405405405405,\n          0.8851254237288136\n        ],\n        \"semantic_type\": \"\",\n        \"description\": \"\"\n      }\n    },\n    {\n      \"column\": \"rrg_iqr_\\u043b\\u0435\\u0436\\u0430\",\n      \"properties\": {\n        \"dtype\": \"number\",\n        \"std\": 0.043174082616190816,\n        \"min\": 0.008,\n        \"max\": 0.348,\n        \"num_unique_values\": 80,\n        \"samples\": [\n          0.012,\n          0.02,\n          0.0399999999999999\n        ],\n        \"semantic_type\": \"\",\n        \"description\": \"\"\n      }\n    },\n    {\n      \"column\": \"rrg_iqr_\\u0441\\u0442\\u043e\\u044f\",\n      \"properties\": {\n        \"dtype\": \"number\",\n        \"std\": 0.034151695542940626,\n        \"min\": 0.008,\n        \"max\": 0.216,\n        \"num_unique_values\": 51,\n        \"samples\": [\n          0.0199999999999999,\n          0.216,\n          0.0439999999999998\n        ],\n        \"semantic_type\": \"\",\n        \"description\": \"\"\n      }\n    },\n    {\n      \"column\": \"rrg_mad_\\u043b\\u0435\\u0436\\u0430\",\n      \"properties\": {\n        \"dtype\": \"number\",\n        \"std\": 0.020778594438141597,\n        \"min\": 0.004,\n        \"max\": 0.1719999999999999,\n        \"num_unique_values\": 47,\n        \"samples\": [\n          0.0559999999999999,\n          0.124,\n          0.0279999999999999\n        ],\n        \"semantic_type\": \"\",\n        \"description\": \"\"\n      }\n    },\n    {\n      \"column\": \"rrg_mad_\\u0441\\u0442\\u043e\\u044f\",\n      \"properties\": {\n        \"dtype\": \"number\",\n        \"std\": 0.016829821645756412,\n        \"min\": 0.004,\n        \"max\": 0.1080000000000001,\n        \"num_unique_values\": 34,\n        \"samples\": [\n          0.0399999999999998,\n          0.014,\n          0.006\n        ],\n        \"semantic_type\": \"\",\n        \"description\": \"\"\n      }\n    },\n    {\n      \"column\": \"patient\",\n      \"properties\": {\n        \"dtype\": \"category\",\n        \"num_unique_values\": 4,\n        \"samples\": [\n          \"H\",\n          \"IM6\",\n          \"AG\"\n        ],\n        \"semantic_type\": \"\",\n        \"description\": \"\"\n      }\n    }\n  ]\n}"
            }
          },
          "metadata": {},
          "execution_count": 228
        }
      ]
    },
    {
      "cell_type": "markdown",
      "source": [
        "# Проводим анализ между гипертониками(AG) и здоровыми(H)."
      ],
      "metadata": {
        "id": "IuuXx7jtTZqm"
      }
    },
    {
      "cell_type": "markdown",
      "source": [
        "Уберем группы IM и IM6, а также id для удобства."
      ],
      "metadata": {
        "id": "U5H4JO_SXqkt"
      }
    },
    {
      "cell_type": "code",
      "source": [
        "data = data[(data['patient'] == 'AG') | (data['patient'] == 'H')]"
      ],
      "metadata": {
        "id": "PaF7Y9RTXYjg"
      },
      "execution_count": null,
      "outputs": []
    },
    {
      "cell_type": "code",
      "source": [
        "data = data.drop('id', axis=1)"
      ],
      "metadata": {
        "id": "z6BPWl8jcpEM"
      },
      "execution_count": null,
      "outputs": []
    },
    {
      "cell_type": "code",
      "source": [
        "data.patient.value_counts()"
      ],
      "metadata": {
        "colab": {
          "base_uri": "https://localhost:8080/",
          "height": 198
        },
        "id": "HdUhwmQtZDDy",
        "outputId": "f1195d0e-2e10-43f8-e084-3384ebf5cd0a"
      },
      "execution_count": null,
      "outputs": [
        {
          "output_type": "execute_result",
          "data": {
            "text/plain": [
              "patient\n",
              "AG    64\n",
              "H     36\n",
              "Name: count, dtype: int64"
            ],
            "text/html": [
              "<div>\n",
              "<style scoped>\n",
              "    .dataframe tbody tr th:only-of-type {\n",
              "        vertical-align: middle;\n",
              "    }\n",
              "\n",
              "    .dataframe tbody tr th {\n",
              "        vertical-align: top;\n",
              "    }\n",
              "\n",
              "    .dataframe thead th {\n",
              "        text-align: right;\n",
              "    }\n",
              "</style>\n",
              "<table border=\"1\" class=\"dataframe\">\n",
              "  <thead>\n",
              "    <tr style=\"text-align: right;\">\n",
              "      <th></th>\n",
              "      <th>count</th>\n",
              "    </tr>\n",
              "    <tr>\n",
              "      <th>patient</th>\n",
              "      <th></th>\n",
              "    </tr>\n",
              "  </thead>\n",
              "  <tbody>\n",
              "    <tr>\n",
              "      <th>AG</th>\n",
              "      <td>64</td>\n",
              "    </tr>\n",
              "    <tr>\n",
              "      <th>H</th>\n",
              "      <td>36</td>\n",
              "    </tr>\n",
              "  </tbody>\n",
              "</table>\n",
              "</div><br><label><b>dtype:</b> int64</label>"
            ]
          },
          "metadata": {},
          "execution_count": 231
        }
      ]
    },
    {
      "cell_type": "markdown",
      "source": [
        "Сразу можно заметить, что данных о гипертониках(AG) больше, чем о здоровых(H).\n",
        "\n"
      ],
      "metadata": {
        "id": "OmRwfCCjZjsR"
      }
    },
    {
      "cell_type": "markdown",
      "source": [
        "Для начала проведем анализ по признакам."
      ],
      "metadata": {
        "id": "Y6G5S1mwauQK"
      }
    },
    {
      "cell_type": "code",
      "source": [
        "data.groupby('patient')['rrg_mean_лежа'].agg(['mean', 'median', 'std'])"
      ],
      "metadata": {
        "colab": {
          "base_uri": "https://localhost:8080/",
          "height": 164
        },
        "id": "ydjNT9NvayI6",
        "outputId": "2ebb8e5d-943e-42ed-e6fb-8349d6997362"
      },
      "execution_count": null,
      "outputs": [
        {
          "output_type": "execute_result",
          "data": {
            "text/plain": [
              "             mean    median       std\n",
              "patient                              \n",
              "AG       0.927314  0.927767  0.140633\n",
              "H        0.829833  0.842149  0.136565"
            ],
            "text/html": [
              "\n",
              "  <div id=\"df-ba5da088-4077-4c3b-8c9c-04e3cdcf97bb\" class=\"colab-df-container\">\n",
              "    <div>\n",
              "<style scoped>\n",
              "    .dataframe tbody tr th:only-of-type {\n",
              "        vertical-align: middle;\n",
              "    }\n",
              "\n",
              "    .dataframe tbody tr th {\n",
              "        vertical-align: top;\n",
              "    }\n",
              "\n",
              "    .dataframe thead th {\n",
              "        text-align: right;\n",
              "    }\n",
              "</style>\n",
              "<table border=\"1\" class=\"dataframe\">\n",
              "  <thead>\n",
              "    <tr style=\"text-align: right;\">\n",
              "      <th></th>\n",
              "      <th>mean</th>\n",
              "      <th>median</th>\n",
              "      <th>std</th>\n",
              "    </tr>\n",
              "    <tr>\n",
              "      <th>patient</th>\n",
              "      <th></th>\n",
              "      <th></th>\n",
              "      <th></th>\n",
              "    </tr>\n",
              "  </thead>\n",
              "  <tbody>\n",
              "    <tr>\n",
              "      <th>AG</th>\n",
              "      <td>0.927314</td>\n",
              "      <td>0.927767</td>\n",
              "      <td>0.140633</td>\n",
              "    </tr>\n",
              "    <tr>\n",
              "      <th>H</th>\n",
              "      <td>0.829833</td>\n",
              "      <td>0.842149</td>\n",
              "      <td>0.136565</td>\n",
              "    </tr>\n",
              "  </tbody>\n",
              "</table>\n",
              "</div>\n",
              "    <div class=\"colab-df-buttons\">\n",
              "\n",
              "  <div class=\"colab-df-container\">\n",
              "    <button class=\"colab-df-convert\" onclick=\"convertToInteractive('df-ba5da088-4077-4c3b-8c9c-04e3cdcf97bb')\"\n",
              "            title=\"Convert this dataframe to an interactive table.\"\n",
              "            style=\"display:none;\">\n",
              "\n",
              "  <svg xmlns=\"http://www.w3.org/2000/svg\" height=\"24px\" viewBox=\"0 -960 960 960\">\n",
              "    <path d=\"M120-120v-720h720v720H120Zm60-500h600v-160H180v160Zm220 220h160v-160H400v160Zm0 220h160v-160H400v160ZM180-400h160v-160H180v160Zm440 0h160v-160H620v160ZM180-180h160v-160H180v160Zm440 0h160v-160H620v160Z\"/>\n",
              "  </svg>\n",
              "    </button>\n",
              "\n",
              "  <style>\n",
              "    .colab-df-container {\n",
              "      display:flex;\n",
              "      gap: 12px;\n",
              "    }\n",
              "\n",
              "    .colab-df-convert {\n",
              "      background-color: #E8F0FE;\n",
              "      border: none;\n",
              "      border-radius: 50%;\n",
              "      cursor: pointer;\n",
              "      display: none;\n",
              "      fill: #1967D2;\n",
              "      height: 32px;\n",
              "      padding: 0 0 0 0;\n",
              "      width: 32px;\n",
              "    }\n",
              "\n",
              "    .colab-df-convert:hover {\n",
              "      background-color: #E2EBFA;\n",
              "      box-shadow: 0px 1px 2px rgba(60, 64, 67, 0.3), 0px 1px 3px 1px rgba(60, 64, 67, 0.15);\n",
              "      fill: #174EA6;\n",
              "    }\n",
              "\n",
              "    .colab-df-buttons div {\n",
              "      margin-bottom: 4px;\n",
              "    }\n",
              "\n",
              "    [theme=dark] .colab-df-convert {\n",
              "      background-color: #3B4455;\n",
              "      fill: #D2E3FC;\n",
              "    }\n",
              "\n",
              "    [theme=dark] .colab-df-convert:hover {\n",
              "      background-color: #434B5C;\n",
              "      box-shadow: 0px 1px 3px 1px rgba(0, 0, 0, 0.15);\n",
              "      filter: drop-shadow(0px 1px 2px rgba(0, 0, 0, 0.3));\n",
              "      fill: #FFFFFF;\n",
              "    }\n",
              "  </style>\n",
              "\n",
              "    <script>\n",
              "      const buttonEl =\n",
              "        document.querySelector('#df-ba5da088-4077-4c3b-8c9c-04e3cdcf97bb button.colab-df-convert');\n",
              "      buttonEl.style.display =\n",
              "        google.colab.kernel.accessAllowed ? 'block' : 'none';\n",
              "\n",
              "      async function convertToInteractive(key) {\n",
              "        const element = document.querySelector('#df-ba5da088-4077-4c3b-8c9c-04e3cdcf97bb');\n",
              "        const dataTable =\n",
              "          await google.colab.kernel.invokeFunction('convertToInteractive',\n",
              "                                                    [key], {});\n",
              "        if (!dataTable) return;\n",
              "\n",
              "        const docLinkHtml = 'Like what you see? Visit the ' +\n",
              "          '<a target=\"_blank\" href=https://colab.research.google.com/notebooks/data_table.ipynb>data table notebook</a>'\n",
              "          + ' to learn more about interactive tables.';\n",
              "        element.innerHTML = '';\n",
              "        dataTable['output_type'] = 'display_data';\n",
              "        await google.colab.output.renderOutput(dataTable, element);\n",
              "        const docLink = document.createElement('div');\n",
              "        docLink.innerHTML = docLinkHtml;\n",
              "        element.appendChild(docLink);\n",
              "      }\n",
              "    </script>\n",
              "  </div>\n",
              "\n",
              "\n",
              "<div id=\"df-4440b197-8a38-4c2f-a3ca-361fb2dd4fee\">\n",
              "  <button class=\"colab-df-quickchart\" onclick=\"quickchart('df-4440b197-8a38-4c2f-a3ca-361fb2dd4fee')\"\n",
              "            title=\"Suggest charts\"\n",
              "            style=\"display:none;\">\n",
              "\n",
              "<svg xmlns=\"http://www.w3.org/2000/svg\" height=\"24px\"viewBox=\"0 0 24 24\"\n",
              "     width=\"24px\">\n",
              "    <g>\n",
              "        <path d=\"M19 3H5c-1.1 0-2 .9-2 2v14c0 1.1.9 2 2 2h14c1.1 0 2-.9 2-2V5c0-1.1-.9-2-2-2zM9 17H7v-7h2v7zm4 0h-2V7h2v10zm4 0h-2v-4h2v4z\"/>\n",
              "    </g>\n",
              "</svg>\n",
              "  </button>\n",
              "\n",
              "<style>\n",
              "  .colab-df-quickchart {\n",
              "      --bg-color: #E8F0FE;\n",
              "      --fill-color: #1967D2;\n",
              "      --hover-bg-color: #E2EBFA;\n",
              "      --hover-fill-color: #174EA6;\n",
              "      --disabled-fill-color: #AAA;\n",
              "      --disabled-bg-color: #DDD;\n",
              "  }\n",
              "\n",
              "  [theme=dark] .colab-df-quickchart {\n",
              "      --bg-color: #3B4455;\n",
              "      --fill-color: #D2E3FC;\n",
              "      --hover-bg-color: #434B5C;\n",
              "      --hover-fill-color: #FFFFFF;\n",
              "      --disabled-bg-color: #3B4455;\n",
              "      --disabled-fill-color: #666;\n",
              "  }\n",
              "\n",
              "  .colab-df-quickchart {\n",
              "    background-color: var(--bg-color);\n",
              "    border: none;\n",
              "    border-radius: 50%;\n",
              "    cursor: pointer;\n",
              "    display: none;\n",
              "    fill: var(--fill-color);\n",
              "    height: 32px;\n",
              "    padding: 0;\n",
              "    width: 32px;\n",
              "  }\n",
              "\n",
              "  .colab-df-quickchart:hover {\n",
              "    background-color: var(--hover-bg-color);\n",
              "    box-shadow: 0 1px 2px rgba(60, 64, 67, 0.3), 0 1px 3px 1px rgba(60, 64, 67, 0.15);\n",
              "    fill: var(--button-hover-fill-color);\n",
              "  }\n",
              "\n",
              "  .colab-df-quickchart-complete:disabled,\n",
              "  .colab-df-quickchart-complete:disabled:hover {\n",
              "    background-color: var(--disabled-bg-color);\n",
              "    fill: var(--disabled-fill-color);\n",
              "    box-shadow: none;\n",
              "  }\n",
              "\n",
              "  .colab-df-spinner {\n",
              "    border: 2px solid var(--fill-color);\n",
              "    border-color: transparent;\n",
              "    border-bottom-color: var(--fill-color);\n",
              "    animation:\n",
              "      spin 1s steps(1) infinite;\n",
              "  }\n",
              "\n",
              "  @keyframes spin {\n",
              "    0% {\n",
              "      border-color: transparent;\n",
              "      border-bottom-color: var(--fill-color);\n",
              "      border-left-color: var(--fill-color);\n",
              "    }\n",
              "    20% {\n",
              "      border-color: transparent;\n",
              "      border-left-color: var(--fill-color);\n",
              "      border-top-color: var(--fill-color);\n",
              "    }\n",
              "    30% {\n",
              "      border-color: transparent;\n",
              "      border-left-color: var(--fill-color);\n",
              "      border-top-color: var(--fill-color);\n",
              "      border-right-color: var(--fill-color);\n",
              "    }\n",
              "    40% {\n",
              "      border-color: transparent;\n",
              "      border-right-color: var(--fill-color);\n",
              "      border-top-color: var(--fill-color);\n",
              "    }\n",
              "    60% {\n",
              "      border-color: transparent;\n",
              "      border-right-color: var(--fill-color);\n",
              "    }\n",
              "    80% {\n",
              "      border-color: transparent;\n",
              "      border-right-color: var(--fill-color);\n",
              "      border-bottom-color: var(--fill-color);\n",
              "    }\n",
              "    90% {\n",
              "      border-color: transparent;\n",
              "      border-bottom-color: var(--fill-color);\n",
              "    }\n",
              "  }\n",
              "</style>\n",
              "\n",
              "  <script>\n",
              "    async function quickchart(key) {\n",
              "      const quickchartButtonEl =\n",
              "        document.querySelector('#' + key + ' button');\n",
              "      quickchartButtonEl.disabled = true;  // To prevent multiple clicks.\n",
              "      quickchartButtonEl.classList.add('colab-df-spinner');\n",
              "      try {\n",
              "        const charts = await google.colab.kernel.invokeFunction(\n",
              "            'suggestCharts', [key], {});\n",
              "      } catch (error) {\n",
              "        console.error('Error during call to suggestCharts:', error);\n",
              "      }\n",
              "      quickchartButtonEl.classList.remove('colab-df-spinner');\n",
              "      quickchartButtonEl.classList.add('colab-df-quickchart-complete');\n",
              "    }\n",
              "    (() => {\n",
              "      let quickchartButtonEl =\n",
              "        document.querySelector('#df-4440b197-8a38-4c2f-a3ca-361fb2dd4fee button');\n",
              "      quickchartButtonEl.style.display =\n",
              "        google.colab.kernel.accessAllowed ? 'block' : 'none';\n",
              "    })();\n",
              "  </script>\n",
              "</div>\n",
              "    </div>\n",
              "  </div>\n"
            ],
            "application/vnd.google.colaboratory.intrinsic+json": {
              "type": "dataframe",
              "summary": "{\n  \"name\": \"data\",\n  \"rows\": 2,\n  \"fields\": [\n    {\n      \"column\": \"patient\",\n      \"properties\": {\n        \"dtype\": \"string\",\n        \"num_unique_values\": 2,\n        \"samples\": [\n          \"H\",\n          \"AG\"\n        ],\n        \"semantic_type\": \"\",\n        \"description\": \"\"\n      }\n    },\n    {\n      \"column\": \"mean\",\n      \"properties\": {\n        \"dtype\": \"number\",\n        \"std\": 0.06892986055589755,\n        \"min\": 0.8298328838568465,\n        \"max\": 0.927314427507483,\n        \"num_unique_values\": 2,\n        \"samples\": [\n          0.8298328838568465,\n          0.927314427507483\n        ],\n        \"semantic_type\": \"\",\n        \"description\": \"\"\n      }\n    },\n    {\n      \"column\": \"median\",\n      \"properties\": {\n        \"dtype\": \"number\",\n        \"std\": 0.06054143246254966,\n        \"min\": 0.8421486862637595,\n        \"max\": 0.927767201137792,\n        \"num_unique_values\": 2,\n        \"samples\": [\n          0.8421486862637595,\n          0.927767201137792\n        ],\n        \"semantic_type\": \"\",\n        \"description\": \"\"\n      }\n    },\n    {\n      \"column\": \"std\",\n      \"properties\": {\n        \"dtype\": \"number\",\n        \"std\": 0.002876728737874474,\n        \"min\": 0.13656495416802325,\n        \"max\": 0.14063326296439377,\n        \"num_unique_values\": 2,\n        \"samples\": [\n          0.13656495416802325,\n          0.14063326296439377\n        ],\n        \"semantic_type\": \"\",\n        \"description\": \"\"\n      }\n    }\n  ]\n}"
            }
          },
          "metadata": {},
          "execution_count": 232
        }
      ]
    },
    {
      "cell_type": "code",
      "source": [],
      "metadata": {
        "id": "PJPGygiEqrLh"
      },
      "execution_count": null,
      "outputs": []
    },
    {
      "cell_type": "code",
      "source": [
        "data.groupby('patient')['rrg_mean_стоя'].agg(['mean', 'median', 'std'])"
      ],
      "metadata": {
        "colab": {
          "base_uri": "https://localhost:8080/",
          "height": 164
        },
        "id": "0BlwDb-edlM1",
        "outputId": "bf38710d-dcf8-4720-f455-9a2ce28d5d93"
      },
      "execution_count": null,
      "outputs": [
        {
          "output_type": "execute_result",
          "data": {
            "text/plain": [
              "             mean    median       std\n",
              "patient                              \n",
              "AG       0.762247  0.750424  0.125383\n",
              "H        0.614012  0.629703  0.101186"
            ],
            "text/html": [
              "\n",
              "  <div id=\"df-f7d3e597-3e13-4a56-8c5f-5f255349eb19\" class=\"colab-df-container\">\n",
              "    <div>\n",
              "<style scoped>\n",
              "    .dataframe tbody tr th:only-of-type {\n",
              "        vertical-align: middle;\n",
              "    }\n",
              "\n",
              "    .dataframe tbody tr th {\n",
              "        vertical-align: top;\n",
              "    }\n",
              "\n",
              "    .dataframe thead th {\n",
              "        text-align: right;\n",
              "    }\n",
              "</style>\n",
              "<table border=\"1\" class=\"dataframe\">\n",
              "  <thead>\n",
              "    <tr style=\"text-align: right;\">\n",
              "      <th></th>\n",
              "      <th>mean</th>\n",
              "      <th>median</th>\n",
              "      <th>std</th>\n",
              "    </tr>\n",
              "    <tr>\n",
              "      <th>patient</th>\n",
              "      <th></th>\n",
              "      <th></th>\n",
              "      <th></th>\n",
              "    </tr>\n",
              "  </thead>\n",
              "  <tbody>\n",
              "    <tr>\n",
              "      <th>AG</th>\n",
              "      <td>0.762247</td>\n",
              "      <td>0.750424</td>\n",
              "      <td>0.125383</td>\n",
              "    </tr>\n",
              "    <tr>\n",
              "      <th>H</th>\n",
              "      <td>0.614012</td>\n",
              "      <td>0.629703</td>\n",
              "      <td>0.101186</td>\n",
              "    </tr>\n",
              "  </tbody>\n",
              "</table>\n",
              "</div>\n",
              "    <div class=\"colab-df-buttons\">\n",
              "\n",
              "  <div class=\"colab-df-container\">\n",
              "    <button class=\"colab-df-convert\" onclick=\"convertToInteractive('df-f7d3e597-3e13-4a56-8c5f-5f255349eb19')\"\n",
              "            title=\"Convert this dataframe to an interactive table.\"\n",
              "            style=\"display:none;\">\n",
              "\n",
              "  <svg xmlns=\"http://www.w3.org/2000/svg\" height=\"24px\" viewBox=\"0 -960 960 960\">\n",
              "    <path d=\"M120-120v-720h720v720H120Zm60-500h600v-160H180v160Zm220 220h160v-160H400v160Zm0 220h160v-160H400v160ZM180-400h160v-160H180v160Zm440 0h160v-160H620v160ZM180-180h160v-160H180v160Zm440 0h160v-160H620v160Z\"/>\n",
              "  </svg>\n",
              "    </button>\n",
              "\n",
              "  <style>\n",
              "    .colab-df-container {\n",
              "      display:flex;\n",
              "      gap: 12px;\n",
              "    }\n",
              "\n",
              "    .colab-df-convert {\n",
              "      background-color: #E8F0FE;\n",
              "      border: none;\n",
              "      border-radius: 50%;\n",
              "      cursor: pointer;\n",
              "      display: none;\n",
              "      fill: #1967D2;\n",
              "      height: 32px;\n",
              "      padding: 0 0 0 0;\n",
              "      width: 32px;\n",
              "    }\n",
              "\n",
              "    .colab-df-convert:hover {\n",
              "      background-color: #E2EBFA;\n",
              "      box-shadow: 0px 1px 2px rgba(60, 64, 67, 0.3), 0px 1px 3px 1px rgba(60, 64, 67, 0.15);\n",
              "      fill: #174EA6;\n",
              "    }\n",
              "\n",
              "    .colab-df-buttons div {\n",
              "      margin-bottom: 4px;\n",
              "    }\n",
              "\n",
              "    [theme=dark] .colab-df-convert {\n",
              "      background-color: #3B4455;\n",
              "      fill: #D2E3FC;\n",
              "    }\n",
              "\n",
              "    [theme=dark] .colab-df-convert:hover {\n",
              "      background-color: #434B5C;\n",
              "      box-shadow: 0px 1px 3px 1px rgba(0, 0, 0, 0.15);\n",
              "      filter: drop-shadow(0px 1px 2px rgba(0, 0, 0, 0.3));\n",
              "      fill: #FFFFFF;\n",
              "    }\n",
              "  </style>\n",
              "\n",
              "    <script>\n",
              "      const buttonEl =\n",
              "        document.querySelector('#df-f7d3e597-3e13-4a56-8c5f-5f255349eb19 button.colab-df-convert');\n",
              "      buttonEl.style.display =\n",
              "        google.colab.kernel.accessAllowed ? 'block' : 'none';\n",
              "\n",
              "      async function convertToInteractive(key) {\n",
              "        const element = document.querySelector('#df-f7d3e597-3e13-4a56-8c5f-5f255349eb19');\n",
              "        const dataTable =\n",
              "          await google.colab.kernel.invokeFunction('convertToInteractive',\n",
              "                                                    [key], {});\n",
              "        if (!dataTable) return;\n",
              "\n",
              "        const docLinkHtml = 'Like what you see? Visit the ' +\n",
              "          '<a target=\"_blank\" href=https://colab.research.google.com/notebooks/data_table.ipynb>data table notebook</a>'\n",
              "          + ' to learn more about interactive tables.';\n",
              "        element.innerHTML = '';\n",
              "        dataTable['output_type'] = 'display_data';\n",
              "        await google.colab.output.renderOutput(dataTable, element);\n",
              "        const docLink = document.createElement('div');\n",
              "        docLink.innerHTML = docLinkHtml;\n",
              "        element.appendChild(docLink);\n",
              "      }\n",
              "    </script>\n",
              "  </div>\n",
              "\n",
              "\n",
              "<div id=\"df-a1b6e73a-98d8-48a8-a730-069c9c6606ef\">\n",
              "  <button class=\"colab-df-quickchart\" onclick=\"quickchart('df-a1b6e73a-98d8-48a8-a730-069c9c6606ef')\"\n",
              "            title=\"Suggest charts\"\n",
              "            style=\"display:none;\">\n",
              "\n",
              "<svg xmlns=\"http://www.w3.org/2000/svg\" height=\"24px\"viewBox=\"0 0 24 24\"\n",
              "     width=\"24px\">\n",
              "    <g>\n",
              "        <path d=\"M19 3H5c-1.1 0-2 .9-2 2v14c0 1.1.9 2 2 2h14c1.1 0 2-.9 2-2V5c0-1.1-.9-2-2-2zM9 17H7v-7h2v7zm4 0h-2V7h2v10zm4 0h-2v-4h2v4z\"/>\n",
              "    </g>\n",
              "</svg>\n",
              "  </button>\n",
              "\n",
              "<style>\n",
              "  .colab-df-quickchart {\n",
              "      --bg-color: #E8F0FE;\n",
              "      --fill-color: #1967D2;\n",
              "      --hover-bg-color: #E2EBFA;\n",
              "      --hover-fill-color: #174EA6;\n",
              "      --disabled-fill-color: #AAA;\n",
              "      --disabled-bg-color: #DDD;\n",
              "  }\n",
              "\n",
              "  [theme=dark] .colab-df-quickchart {\n",
              "      --bg-color: #3B4455;\n",
              "      --fill-color: #D2E3FC;\n",
              "      --hover-bg-color: #434B5C;\n",
              "      --hover-fill-color: #FFFFFF;\n",
              "      --disabled-bg-color: #3B4455;\n",
              "      --disabled-fill-color: #666;\n",
              "  }\n",
              "\n",
              "  .colab-df-quickchart {\n",
              "    background-color: var(--bg-color);\n",
              "    border: none;\n",
              "    border-radius: 50%;\n",
              "    cursor: pointer;\n",
              "    display: none;\n",
              "    fill: var(--fill-color);\n",
              "    height: 32px;\n",
              "    padding: 0;\n",
              "    width: 32px;\n",
              "  }\n",
              "\n",
              "  .colab-df-quickchart:hover {\n",
              "    background-color: var(--hover-bg-color);\n",
              "    box-shadow: 0 1px 2px rgba(60, 64, 67, 0.3), 0 1px 3px 1px rgba(60, 64, 67, 0.15);\n",
              "    fill: var(--button-hover-fill-color);\n",
              "  }\n",
              "\n",
              "  .colab-df-quickchart-complete:disabled,\n",
              "  .colab-df-quickchart-complete:disabled:hover {\n",
              "    background-color: var(--disabled-bg-color);\n",
              "    fill: var(--disabled-fill-color);\n",
              "    box-shadow: none;\n",
              "  }\n",
              "\n",
              "  .colab-df-spinner {\n",
              "    border: 2px solid var(--fill-color);\n",
              "    border-color: transparent;\n",
              "    border-bottom-color: var(--fill-color);\n",
              "    animation:\n",
              "      spin 1s steps(1) infinite;\n",
              "  }\n",
              "\n",
              "  @keyframes spin {\n",
              "    0% {\n",
              "      border-color: transparent;\n",
              "      border-bottom-color: var(--fill-color);\n",
              "      border-left-color: var(--fill-color);\n",
              "    }\n",
              "    20% {\n",
              "      border-color: transparent;\n",
              "      border-left-color: var(--fill-color);\n",
              "      border-top-color: var(--fill-color);\n",
              "    }\n",
              "    30% {\n",
              "      border-color: transparent;\n",
              "      border-left-color: var(--fill-color);\n",
              "      border-top-color: var(--fill-color);\n",
              "      border-right-color: var(--fill-color);\n",
              "    }\n",
              "    40% {\n",
              "      border-color: transparent;\n",
              "      border-right-color: var(--fill-color);\n",
              "      border-top-color: var(--fill-color);\n",
              "    }\n",
              "    60% {\n",
              "      border-color: transparent;\n",
              "      border-right-color: var(--fill-color);\n",
              "    }\n",
              "    80% {\n",
              "      border-color: transparent;\n",
              "      border-right-color: var(--fill-color);\n",
              "      border-bottom-color: var(--fill-color);\n",
              "    }\n",
              "    90% {\n",
              "      border-color: transparent;\n",
              "      border-bottom-color: var(--fill-color);\n",
              "    }\n",
              "  }\n",
              "</style>\n",
              "\n",
              "  <script>\n",
              "    async function quickchart(key) {\n",
              "      const quickchartButtonEl =\n",
              "        document.querySelector('#' + key + ' button');\n",
              "      quickchartButtonEl.disabled = true;  // To prevent multiple clicks.\n",
              "      quickchartButtonEl.classList.add('colab-df-spinner');\n",
              "      try {\n",
              "        const charts = await google.colab.kernel.invokeFunction(\n",
              "            'suggestCharts', [key], {});\n",
              "      } catch (error) {\n",
              "        console.error('Error during call to suggestCharts:', error);\n",
              "      }\n",
              "      quickchartButtonEl.classList.remove('colab-df-spinner');\n",
              "      quickchartButtonEl.classList.add('colab-df-quickchart-complete');\n",
              "    }\n",
              "    (() => {\n",
              "      let quickchartButtonEl =\n",
              "        document.querySelector('#df-a1b6e73a-98d8-48a8-a730-069c9c6606ef button');\n",
              "      quickchartButtonEl.style.display =\n",
              "        google.colab.kernel.accessAllowed ? 'block' : 'none';\n",
              "    })();\n",
              "  </script>\n",
              "</div>\n",
              "    </div>\n",
              "  </div>\n"
            ],
            "application/vnd.google.colaboratory.intrinsic+json": {
              "type": "dataframe",
              "summary": "{\n  \"name\": \"data\",\n  \"rows\": 2,\n  \"fields\": [\n    {\n      \"column\": \"patient\",\n      \"properties\": {\n        \"dtype\": \"string\",\n        \"num_unique_values\": 2,\n        \"samples\": [\n          \"H\",\n          \"AG\"\n        ],\n        \"semantic_type\": \"\",\n        \"description\": \"\"\n      }\n    },\n    {\n      \"column\": \"mean\",\n      \"properties\": {\n        \"dtype\": \"number\",\n        \"std\": 0.1048177658815611,\n        \"min\": 0.6140118616369414,\n        \"max\": 0.762246567724293,\n        \"num_unique_values\": 2,\n        \"samples\": [\n          0.6140118616369414,\n          0.762246567724293\n        ],\n        \"semantic_type\": \"\",\n        \"description\": \"\"\n      }\n    },\n    {\n      \"column\": \"median\",\n      \"properties\": {\n        \"dtype\": \"number\",\n        \"std\": 0.08536277133281571,\n        \"min\": 0.6297028027863696,\n        \"max\": 0.7504239917269908,\n        \"num_unique_values\": 2,\n        \"samples\": [\n          0.6297028027863696,\n          0.7504239917269908\n        ],\n        \"semantic_type\": \"\",\n        \"description\": \"\"\n      }\n    },\n    {\n      \"column\": \"std\",\n      \"properties\": {\n        \"dtype\": \"number\",\n        \"std\": 0.017109686063093207,\n        \"min\": 0.10118624385004578,\n        \"max\": 0.12538299392841812,\n        \"num_unique_values\": 2,\n        \"samples\": [\n          0.10118624385004578,\n          0.12538299392841812\n        ],\n        \"semantic_type\": \"\",\n        \"description\": \"\"\n      }\n    }\n  ]\n}"
            }
          },
          "metadata": {},
          "execution_count": 233
        }
      ]
    },
    {
      "cell_type": "markdown",
      "source": [
        "Проведем анализ графиков и посмотрим на распределение значений."
      ],
      "metadata": {
        "id": "giCCUcOwXxgo"
      }
    },
    {
      "cell_type": "code",
      "source": [
        "g = sns.FacetGrid (data=data, col='patient', col_wrap=2)\n",
        "g.map(sns.histplot , 'rrg_mean_лежа', bins=10, kde=True)"
      ],
      "metadata": {
        "colab": {
          "base_uri": "https://localhost:8080/",
          "height": 345
        },
        "id": "C8Iabz2KWp56",
        "outputId": "92e0246e-3f77-4919-b735-a869f486f9d9"
      },
      "execution_count": null,
      "outputs": [
        {
          "output_type": "execute_result",
          "data": {
            "text/plain": [
              "<seaborn.axisgrid.FacetGrid at 0x799c41682290>"
            ]
          },
          "metadata": {},
          "execution_count": 234
        },
        {
          "output_type": "display_data",
          "data": {
            "text/plain": [
              "<Figure size 600x300 with 2 Axes>"
            ],
            "image/png": "[encoded data removed]"
          },
          "metadata": {}
        }
      ]
    },
    {
      "cell_type": "code",
      "source": [
        "g = sns.FacetGrid (data=data, col='patient', col_wrap=2)\n",
        "g.map(sns.histplot , 'rrg_mean_стоя', bins=10, kde=True)"
      ],
      "metadata": {
        "colab": {
          "base_uri": "https://localhost:8080/",
          "height": 345
        },
        "id": "t7dZ5ktmYw7Q",
        "outputId": "f7f27ef7-c8bd-4e01-ab2a-8655ce7462c4"
      },
      "execution_count": null,
      "outputs": [
        {
          "output_type": "execute_result",
          "data": {
            "text/plain": [
              "<seaborn.axisgrid.FacetGrid at 0x799c41576110>"
            ]
          },
          "metadata": {},
          "execution_count": 235
        },
        {
          "output_type": "display_data",
          "data": {
            "text/plain": [
              "<Figure size 600x300 with 2 Axes>"
            ],
            "image/png": "[encoded data removed]"
          },
          "metadata": {}
        }
      ]
    },
    {
      "cell_type": "code",
      "source": [
        "g = sns.FacetGrid (data=data, col='patient', col_wrap=2)\n",
        "g.map(sns.histplot , 'rrg_median_лежа', bins=10, kde=True)"
      ],
      "metadata": {
        "colab": {
          "base_uri": "https://localhost:8080/",
          "height": 345
        },
        "id": "20tpKVXfY79F",
        "outputId": "92fb194a-0b82-4147-ff52-d12ca0415ba1"
      },
      "execution_count": null,
      "outputs": [
        {
          "output_type": "execute_result",
          "data": {
            "text/plain": [
              "<seaborn.axisgrid.FacetGrid at 0x799c4146cfa0>"
            ]
          },
          "metadata": {},
          "execution_count": 236
        },
        {
          "output_type": "display_data",
          "data": {
            "text/plain": [
              "<Figure size 600x300 with 2 Axes>"
            ],
            "image/png": "[encoded data removed]"
          },
          "metadata": {}
        }
      ]
    },
    {
      "cell_type": "code",
      "source": [
        "g = sns.FacetGrid (data=data, col='patient', col_wrap=2)\n",
        "g.map(sns.histplot , 'rrg_median_стоя', bins=10, kde=True)"
      ],
      "metadata": {
        "colab": {
          "base_uri": "https://localhost:8080/",
          "height": 345
        },
        "id": "4ofXduHpUOuc",
        "outputId": "f1379555-e36b-4c02-f57a-07c41b9d26ed"
      },
      "execution_count": null,
      "outputs": [
        {
          "output_type": "execute_result",
          "data": {
            "text/plain": [
              "<seaborn.axisgrid.FacetGrid at 0x799c413761a0>"
            ]
          },
          "metadata": {},
          "execution_count": 237
        },
        {
          "output_type": "display_data",
          "data": {
            "text/plain": [
              "<Figure size 600x300 with 2 Axes>"
            ],
            "image/png": "[encoded data removed]"
          },
          "metadata": {}
        }
      ]
    },
    {
      "cell_type": "markdown",
      "source": [
        "Исходя из графиков, средние значение и медина имеет нормальное распределение."
      ],
      "metadata": {
        "id": "1CO4kq6mZ1rr"
      }
    },
    {
      "cell_type": "code",
      "source": [
        "g = sns.FacetGrid (data=data, col='patient', col_wrap=2)\n",
        "g.map(sns.histplot , 'rrg_std_лежа', bins=10, kde=True)"
      ],
      "metadata": {
        "colab": {
          "base_uri": "https://localhost:8080/",
          "height": 345
        },
        "id": "6iGKIP7MU2rs",
        "outputId": "0043b5e2-50b0-4100-94ba-4837630cb876"
      },
      "execution_count": null,
      "outputs": [
        {
          "output_type": "execute_result",
          "data": {
            "text/plain": [
              "<seaborn.axisgrid.FacetGrid at 0x799c4127d4b0>"
            ]
          },
          "metadata": {},
          "execution_count": 238
        },
        {
          "output_type": "display_data",
          "data": {
            "text/plain": [
              "<Figure size 600x300 with 2 Axes>"
            ],
            "image/png": "[encoded data removed]"
          },
          "metadata": {}
        }
      ]
    },
    {
      "cell_type": "code",
      "source": [
        "g = sns.FacetGrid (data=data, col='patient', col_wrap=2)\n",
        "g.map(sns.histplot , 'rrg_std_стоя', bins=10, kde=True)"
      ],
      "metadata": {
        "colab": {
          "base_uri": "https://localhost:8080/",
          "height": 345
        },
        "id": "iLqvH_fiVLlo",
        "outputId": "95b7ca4a-f8e3-48e0-aa30-98baf029cade"
      },
      "execution_count": null,
      "outputs": [
        {
          "output_type": "execute_result",
          "data": {
            "text/plain": [
              "<seaborn.axisgrid.FacetGrid at 0x799c4117a590>"
            ]
          },
          "metadata": {},
          "execution_count": 239
        },
        {
          "output_type": "display_data",
          "data": {
            "text/plain": [
              "<Figure size 600x300 with 2 Axes>"
            ],
            "image/png": "[encoded data removed]"
          },
          "metadata": {}
        }
      ]
    },
    {
      "cell_type": "markdown",
      "source": [
        "Исходя из графиков, стандартное отклонение имеет логнормальное распределение."
      ],
      "metadata": {
        "id": "E8X7niR5Z-ym"
      }
    },
    {
      "cell_type": "markdown",
      "source": [
        "Чтобы расчитать показатель изменичивости вариабильности ЧСС, мы создаем переменные, которые показывают изменения показателя rrg в процентах."
      ],
      "metadata": {
        "id": "5GegXH2aMacX"
      }
    },
    {
      "cell_type": "code",
      "source": [
        "data['rrg_mean_лежа/rrg_mean_стоя в %'] = ((data['rrg_mean_лежа'] / data['rrg_mean_стоя']).round(3) * 100 - 100)\n",
        "data['rrg_median_лежа/rrg_median_стоя в %'] = ((data['rrg_median_лежа'] / data['rrg_median_стоя']).round(3) * 100 - 100)\n",
        "data['rrg_trim_mean_лежа/rrg_trim_mean_стоя в %'] = ((data['rrg_mean_лежа'] / data['rrg_mean_стоя']).round(3) * 100 - 100)"
      ],
      "metadata": {
        "id": "toi4emJA9Kex"
      },
      "execution_count": null,
      "outputs": []
    },
    {
      "cell_type": "markdown",
      "source": [
        "# Так выглядит датасет после добавления переменных."
      ],
      "metadata": {
        "id": "KutnemqYNylz"
      }
    },
    {
      "cell_type": "code",
      "source": [
        "data"
      ],
      "metadata": {
        "colab": {
          "base_uri": "https://localhost:8080/",
          "height": 479
        },
        "id": "Op-AGdNnNusC",
        "outputId": "2ba37cce-80be-4a6e-a7e8-9340e6acd2a2"
      },
      "execution_count": null,
      "outputs": [
        {
          "output_type": "execute_result",
          "data": {
            "text/plain": [
              "    rrg_mean_лежа  rrg_mean_стоя  rrg_median_лежа  rrg_median_стоя  \\\n",
              "0        0.911795       0.852760            0.912            0.852   \n",
              "1        0.729976       0.659733            0.728            0.660   \n",
              "2        0.948242       0.702628            0.948            0.704   \n",
              "3        1.166237       0.889435            1.184            0.894   \n",
              "4        0.730133       0.663203            0.728            0.664   \n",
              "..            ...            ...              ...              ...   \n",
              "95       0.912288       0.660899            0.908            0.652   \n",
              "96       0.742534       0.668329            0.740            0.672   \n",
              "97       0.875930       0.668060            0.876            0.656   \n",
              "98       1.182965       0.736188            1.204            0.732   \n",
              "99       0.904355       0.664148            0.908            0.644   \n",
              "\n",
              "    rrg_std_лежа  rrg_std_стоя  rrg_min_лежа  rrg_min_стоя  rrg_max_лежа  \\\n",
              "0       0.019906      0.028938         0.812         0.636         0.948   \n",
              "1       0.032458      0.029800         0.580         0.576         0.856   \n",
              "2       0.038755      0.047599         0.796         0.512         1.084   \n",
              "3       0.070413      0.058731         0.896         0.716         1.300   \n",
              "4       0.027302      0.031371         0.652         0.552         0.884   \n",
              "..           ...           ...           ...           ...           ...   \n",
              "95      0.061389      0.070184         0.432         0.508         1.616   \n",
              "96      0.045142      0.041371         0.624         0.400         1.144   \n",
              "97      0.058703      0.056872         0.376         0.388         1.148   \n",
              "98      0.116725      0.064817         0.384         0.584         1.420   \n",
              "99      0.072921      0.091944         0.368         0.476         1.056   \n",
              "\n",
              "    rrg_max_стоя  rrg_trim_mean_лежа  rrg_trim_mean_стоя  rrg_iqr_лежа  \\\n",
              "0          1.056            0.913706            0.852877         0.020   \n",
              "1          0.760            0.728587            0.659980         0.040   \n",
              "2          1.572            0.948345            0.702581         0.052   \n",
              "3          1.032            1.174049            0.890913         0.084   \n",
              "4          0.820            0.729099            0.663184         0.036   \n",
              "..           ...                 ...                 ...           ...   \n",
              "95         1.920            0.911013            0.656049         0.056   \n",
              "96         0.808            0.740360            0.668810         0.048   \n",
              "97         0.856            0.877613            0.663784         0.068   \n",
              "98         1.000            1.193240            0.733194         0.150   \n",
              "99         1.276            0.910097            0.654137         0.068   \n",
              "\n",
              "    rrg_iqr_стоя  rrg_mad_лежа  rrg_mad_стоя patient  \\\n",
              "0          0.032         0.012         0.016      AG   \n",
              "1          0.040         0.020         0.020      AG   \n",
              "2          0.056         0.024         0.028      AG   \n",
              "3          0.072         0.040         0.038      AG   \n",
              "4          0.036         0.016         0.016      AG   \n",
              "..           ...           ...           ...     ...   \n",
              "95         0.073         0.024         0.036       H   \n",
              "96         0.052         0.024         0.028       H   \n",
              "97         0.068         0.036         0.032       H   \n",
              "98         0.076         0.072         0.040       H   \n",
              "99         0.100         0.036         0.048       H   \n",
              "\n",
              "    rrg_mean_лежа/rrg_mean_стоя в %  rrg_median_лежа/rrg_median_стоя в %  \\\n",
              "0                               6.9                                  7.0   \n",
              "1                              10.6                                 10.3   \n",
              "2                              35.0                                 34.7   \n",
              "3                              31.1                                 32.4   \n",
              "4                              10.1                                  9.6   \n",
              "..                              ...                                  ...   \n",
              "95                             38.0                                 39.3   \n",
              "96                             11.1                                 10.1   \n",
              "97                             31.1                                 33.5   \n",
              "98                             60.7                                 64.5   \n",
              "99                             36.2                                 41.0   \n",
              "\n",
              "    rrg_trim_mean_лежа/rrg_trim_mean_стоя в %  \n",
              "0                                         6.9  \n",
              "1                                        10.6  \n",
              "2                                        35.0  \n",
              "3                                        31.1  \n",
              "4                                        10.1  \n",
              "..                                        ...  \n",
              "95                                       38.0  \n",
              "96                                       11.1  \n",
              "97                                       31.1  \n",
              "98                                       60.7  \n",
              "99                                       36.2  \n",
              "\n",
              "[100 rows x 20 columns]"
            ],
            "text/html": [
              "\n",
              "  <div id=\"df-c14b095c-b743-4756-bfe5-9600ebad11a0\" class=\"colab-df-container\">\n",
              "    <div>\n",
              "<style scoped>\n",
              "    .dataframe tbody tr th:only-of-type {\n",
              "        vertical-align: middle;\n",
              "    }\n",
              "\n",
              "    .dataframe tbody tr th {\n",
              "        vertical-align: top;\n",
              "    }\n",
              "\n",
              "    .dataframe thead th {\n",
              "        text-align: right;\n",
              "    }\n",
              "</style>\n",
              "<table border=\"1\" class=\"dataframe\">\n",
              "  <thead>\n",
              "    <tr style=\"text-align: right;\">\n",
              "      <th></th>\n",
              "      <th>rrg_mean_лежа</th>\n",
              "      <th>rrg_mean_стоя</th>\n",
              "      <th>rrg_median_лежа</th>\n",
              "      <th>rrg_median_стоя</th>\n",
              "      <th>rrg_std_лежа</th>\n",
              "      <th>rrg_std_стоя</th>\n",
              "      <th>rrg_min_лежа</th>\n",
              "      <th>rrg_min_стоя</th>\n",
              "      <th>rrg_max_лежа</th>\n",
              "      <th>rrg_max_стоя</th>\n",
              "      <th>rrg_trim_mean_лежа</th>\n",
              "      <th>rrg_trim_mean_стоя</th>\n",
              "      <th>rrg_iqr_лежа</th>\n",
              "      <th>rrg_iqr_стоя</th>\n",
              "      <th>rrg_mad_лежа</th>\n",
              "      <th>rrg_mad_стоя</th>\n",
              "      <th>patient</th>\n",
              "      <th>rrg_mean_лежа/rrg_mean_стоя в %</th>\n",
              "      <th>rrg_median_лежа/rrg_median_стоя в %</th>\n",
              "      <th>rrg_trim_mean_лежа/rrg_trim_mean_стоя в %</th>\n",
              "    </tr>\n",
              "  </thead>\n",
              "  <tbody>\n",
              "    <tr>\n",
              "      <th>0</th>\n",
              "      <td>0.911795</td>\n",
              "      <td>0.852760</td>\n",
              "      <td>0.912</td>\n",
              "      <td>0.852</td>\n",
              "      <td>0.019906</td>\n",
              "      <td>0.028938</td>\n",
              "      <td>0.812</td>\n",
              "      <td>0.636</td>\n",
              "      <td>0.948</td>\n",
              "      <td>1.056</td>\n",
              "      <td>0.913706</td>\n",
              "      <td>0.852877</td>\n",
              "      <td>0.020</td>\n",
              "      <td>0.032</td>\n",
              "      <td>0.012</td>\n",
              "      <td>0.016</td>\n",
              "      <td>AG</td>\n",
              "      <td>6.9</td>\n",
              "      <td>7.0</td>\n",
              "      <td>6.9</td>\n",
              "    </tr>\n",
              "    <tr>\n",
              "      <th>1</th>\n",
              "      <td>0.729976</td>\n",
              "      <td>0.659733</td>\n",
              "      <td>0.728</td>\n",
              "      <td>0.660</td>\n",
              "      <td>0.032458</td>\n",
              "      <td>0.029800</td>\n",
              "      <td>0.580</td>\n",
              "      <td>0.576</td>\n",
              "      <td>0.856</td>\n",
              "      <td>0.760</td>\n",
              "      <td>0.728587</td>\n",
              "      <td>0.659980</td>\n",
              "      <td>0.040</td>\n",
              "      <td>0.040</td>\n",
              "      <td>0.020</td>\n",
              "      <td>0.020</td>\n",
              "      <td>AG</td>\n",
              "      <td>10.6</td>\n",
              "      <td>10.3</td>\n",
              "      <td>10.6</td>\n",
              "    </tr>\n",
              "    <tr>\n",
              "      <th>2</th>\n",
              "      <td>0.948242</td>\n",
              "      <td>0.702628</td>\n",
              "      <td>0.948</td>\n",
              "      <td>0.704</td>\n",
              "      <td>0.038755</td>\n",
              "      <td>0.047599</td>\n",
              "      <td>0.796</td>\n",
              "      <td>0.512</td>\n",
              "      <td>1.084</td>\n",
              "      <td>1.572</td>\n",
              "      <td>0.948345</td>\n",
              "      <td>0.702581</td>\n",
              "      <td>0.052</td>\n",
              "      <td>0.056</td>\n",
              "      <td>0.024</td>\n",
              "      <td>0.028</td>\n",
              "      <td>AG</td>\n",
              "      <td>35.0</td>\n",
              "      <td>34.7</td>\n",
              "      <td>35.0</td>\n",
              "    </tr>\n",
              "    <tr>\n",
              "      <th>3</th>\n",
              "      <td>1.166237</td>\n",
              "      <td>0.889435</td>\n",
              "      <td>1.184</td>\n",
              "      <td>0.894</td>\n",
              "      <td>0.070413</td>\n",
              "      <td>0.058731</td>\n",
              "      <td>0.896</td>\n",
              "      <td>0.716</td>\n",
              "      <td>1.300</td>\n",
              "      <td>1.032</td>\n",
              "      <td>1.174049</td>\n",
              "      <td>0.890913</td>\n",
              "      <td>0.084</td>\n",
              "      <td>0.072</td>\n",
              "      <td>0.040</td>\n",
              "      <td>0.038</td>\n",
              "      <td>AG</td>\n",
              "      <td>31.1</td>\n",
              "      <td>32.4</td>\n",
              "      <td>31.1</td>\n",
              "    </tr>\n",
              "    <tr>\n",
              "      <th>4</th>\n",
              "      <td>0.730133</td>\n",
              "      <td>0.663203</td>\n",
              "      <td>0.728</td>\n",
              "      <td>0.664</td>\n",
              "      <td>0.027302</td>\n",
              "      <td>0.031371</td>\n",
              "      <td>0.652</td>\n",
              "      <td>0.552</td>\n",
              "      <td>0.884</td>\n",
              "      <td>0.820</td>\n",
              "      <td>0.729099</td>\n",
              "      <td>0.663184</td>\n",
              "      <td>0.036</td>\n",
              "      <td>0.036</td>\n",
              "      <td>0.016</td>\n",
              "      <td>0.016</td>\n",
              "      <td>AG</td>\n",
              "      <td>10.1</td>\n",
              "      <td>9.6</td>\n",
              "      <td>10.1</td>\n",
              "    </tr>\n",
              "    <tr>\n",
              "      <th>...</th>\n",
              "      <td>...</td>\n",
              "      <td>...</td>\n",
              "      <td>...</td>\n",
              "      <td>...</td>\n",
              "      <td>...</td>\n",
              "      <td>...</td>\n",
              "      <td>...</td>\n",
              "      <td>...</td>\n",
              "      <td>...</td>\n",
              "      <td>...</td>\n",
              "      <td>...</td>\n",
              "      <td>...</td>\n",
              "      <td>...</td>\n",
              "      <td>...</td>\n",
              "      <td>...</td>\n",
              "      <td>...</td>\n",
              "      <td>...</td>\n",
              "      <td>...</td>\n",
              "      <td>...</td>\n",
              "      <td>...</td>\n",
              "    </tr>\n",
              "    <tr>\n",
              "      <th>95</th>\n",
              "      <td>0.912288</td>\n",
              "      <td>0.660899</td>\n",
              "      <td>0.908</td>\n",
              "      <td>0.652</td>\n",
              "      <td>0.061389</td>\n",
              "      <td>0.070184</td>\n",
              "      <td>0.432</td>\n",
              "      <td>0.508</td>\n",
              "      <td>1.616</td>\n",
              "      <td>1.920</td>\n",
              "      <td>0.911013</td>\n",
              "      <td>0.656049</td>\n",
              "      <td>0.056</td>\n",
              "      <td>0.073</td>\n",
              "      <td>0.024</td>\n",
              "      <td>0.036</td>\n",
              "      <td>H</td>\n",
              "      <td>38.0</td>\n",
              "      <td>39.3</td>\n",
              "      <td>38.0</td>\n",
              "    </tr>\n",
              "    <tr>\n",
              "      <th>96</th>\n",
              "      <td>0.742534</td>\n",
              "      <td>0.668329</td>\n",
              "      <td>0.740</td>\n",
              "      <td>0.672</td>\n",
              "      <td>0.045142</td>\n",
              "      <td>0.041371</td>\n",
              "      <td>0.624</td>\n",
              "      <td>0.400</td>\n",
              "      <td>1.144</td>\n",
              "      <td>0.808</td>\n",
              "      <td>0.740360</td>\n",
              "      <td>0.668810</td>\n",
              "      <td>0.048</td>\n",
              "      <td>0.052</td>\n",
              "      <td>0.024</td>\n",
              "      <td>0.028</td>\n",
              "      <td>H</td>\n",
              "      <td>11.1</td>\n",
              "      <td>10.1</td>\n",
              "      <td>11.1</td>\n",
              "    </tr>\n",
              "    <tr>\n",
              "      <th>97</th>\n",
              "      <td>0.875930</td>\n",
              "      <td>0.668060</td>\n",
              "      <td>0.876</td>\n",
              "      <td>0.656</td>\n",
              "      <td>0.058703</td>\n",
              "      <td>0.056872</td>\n",
              "      <td>0.376</td>\n",
              "      <td>0.388</td>\n",
              "      <td>1.148</td>\n",
              "      <td>0.856</td>\n",
              "      <td>0.877613</td>\n",
              "      <td>0.663784</td>\n",
              "      <td>0.068</td>\n",
              "      <td>0.068</td>\n",
              "      <td>0.036</td>\n",
              "      <td>0.032</td>\n",
              "      <td>H</td>\n",
              "      <td>31.1</td>\n",
              "      <td>33.5</td>\n",
              "      <td>31.1</td>\n",
              "    </tr>\n",
              "    <tr>\n",
              "      <th>98</th>\n",
              "      <td>1.182965</td>\n",
              "      <td>0.736188</td>\n",
              "      <td>1.204</td>\n",
              "      <td>0.732</td>\n",
              "      <td>0.116725</td>\n",
              "      <td>0.064817</td>\n",
              "      <td>0.384</td>\n",
              "      <td>0.584</td>\n",
              "      <td>1.420</td>\n",
              "      <td>1.000</td>\n",
              "      <td>1.193240</td>\n",
              "      <td>0.733194</td>\n",
              "      <td>0.150</td>\n",
              "      <td>0.076</td>\n",
              "      <td>0.072</td>\n",
              "      <td>0.040</td>\n",
              "      <td>H</td>\n",
              "      <td>60.7</td>\n",
              "      <td>64.5</td>\n",
              "      <td>60.7</td>\n",
              "    </tr>\n",
              "    <tr>\n",
              "      <th>99</th>\n",
              "      <td>0.904355</td>\n",
              "      <td>0.664148</td>\n",
              "      <td>0.908</td>\n",
              "      <td>0.644</td>\n",
              "      <td>0.072921</td>\n",
              "      <td>0.091944</td>\n",
              "      <td>0.368</td>\n",
              "      <td>0.476</td>\n",
              "      <td>1.056</td>\n",
              "      <td>1.276</td>\n",
              "      <td>0.910097</td>\n",
              "      <td>0.654137</td>\n",
              "      <td>0.068</td>\n",
              "      <td>0.100</td>\n",
              "      <td>0.036</td>\n",
              "      <td>0.048</td>\n",
              "      <td>H</td>\n",
              "      <td>36.2</td>\n",
              "      <td>41.0</td>\n",
              "      <td>36.2</td>\n",
              "    </tr>\n",
              "  </tbody>\n",
              "</table>\n",
              "<p>100 rows × 20 columns</p>\n",
              "</div>\n",
              "    <div class=\"colab-df-buttons\">\n",
              "\n",
              "  <div class=\"colab-df-container\">\n",
              "    <button class=\"colab-df-convert\" onclick=\"convertToInteractive('df-c14b095c-b743-4756-bfe5-9600ebad11a0')\"\n",
              "            title=\"Convert this dataframe to an interactive table.\"\n",
              "            style=\"display:none;\">\n",
              "\n",
              "  <svg xmlns=\"http://www.w3.org/2000/svg\" height=\"24px\" viewBox=\"0 -960 960 960\">\n",
              "    <path d=\"M120-120v-720h720v720H120Zm60-500h600v-160H180v160Zm220 220h160v-160H400v160Zm0 220h160v-160H400v160ZM180-400h160v-160H180v160Zm440 0h160v-160H620v160ZM180-180h160v-160H180v160Zm440 0h160v-160H620v160Z\"/>\n",
              "  </svg>\n",
              "    </button>\n",
              "\n",
              "  <style>\n",
              "    .colab-df-container {\n",
              "      display:flex;\n",
              "      gap: 12px;\n",
              "    }\n",
              "\n",
              "    .colab-df-convert {\n",
              "      background-color: #E8F0FE;\n",
              "      border: none;\n",
              "      border-radius: 50%;\n",
              "      cursor: pointer;\n",
              "      display: none;\n",
              "      fill: #1967D2;\n",
              "      height: 32px;\n",
              "      padding: 0 0 0 0;\n",
              "      width: 32px;\n",
              "    }\n",
              "\n",
              "    .colab-df-convert:hover {\n",
              "      background-color: #E2EBFA;\n",
              "      box-shadow: 0px 1px 2px rgba(60, 64, 67, 0.3), 0px 1px 3px 1px rgba(60, 64, 67, 0.15);\n",
              "      fill: #174EA6;\n",
              "    }\n",
              "\n",
              "    .colab-df-buttons div {\n",
              "      margin-bottom: 4px;\n",
              "    }\n",
              "\n",
              "    [theme=dark] .colab-df-convert {\n",
              "      background-color: #3B4455;\n",
              "      fill: #D2E3FC;\n",
              "    }\n",
              "\n",
              "    [theme=dark] .colab-df-convert:hover {\n",
              "      background-color: #434B5C;\n",
              "      box-shadow: 0px 1px 3px 1px rgba(0, 0, 0, 0.15);\n",
              "      filter: drop-shadow(0px 1px 2px rgba(0, 0, 0, 0.3));\n",
              "      fill: #FFFFFF;\n",
              "    }\n",
              "  </style>\n",
              "\n",
              "    <script>\n",
              "      const buttonEl =\n",
              "        document.querySelector('#df-c14b095c-b743-4756-bfe5-9600ebad11a0 button.colab-df-convert');\n",
              "      buttonEl.style.display =\n",
              "        google.colab.kernel.accessAllowed ? 'block' : 'none';\n",
              "\n",
              "      async function convertToInteractive(key) {\n",
              "        const element = document.querySelector('#df-c14b095c-b743-4756-bfe5-9600ebad11a0');\n",
              "        const dataTable =\n",
              "          await google.colab.kernel.invokeFunction('convertToInteractive',\n",
              "                                                    [key], {});\n",
              "        if (!dataTable) return;\n",
              "\n",
              "        const docLinkHtml = 'Like what you see? Visit the ' +\n",
              "          '<a target=\"_blank\" href=https://colab.research.google.com/notebooks/data_table.ipynb>data table notebook</a>'\n",
              "          + ' to learn more about interactive tables.';\n",
              "        element.innerHTML = '';\n",
              "        dataTable['output_type'] = 'display_data';\n",
              "        await google.colab.output.renderOutput(dataTable, element);\n",
              "        const docLink = document.createElement('div');\n",
              "        docLink.innerHTML = docLinkHtml;\n",
              "        element.appendChild(docLink);\n",
              "      }\n",
              "    </script>\n",
              "  </div>\n",
              "\n",
              "\n",
              "<div id=\"df-94d97a26-f51b-4563-9fc1-2f95e341933d\">\n",
              "  <button class=\"colab-df-quickchart\" onclick=\"quickchart('df-94d97a26-f51b-4563-9fc1-2f95e341933d')\"\n",
              "            title=\"Suggest charts\"\n",
              "            style=\"display:none;\">\n",
              "\n",
              "<svg xmlns=\"http://www.w3.org/2000/svg\" height=\"24px\"viewBox=\"0 0 24 24\"\n",
              "     width=\"24px\">\n",
              "    <g>\n",
              "        <path d=\"M19 3H5c-1.1 0-2 .9-2 2v14c0 1.1.9 2 2 2h14c1.1 0 2-.9 2-2V5c0-1.1-.9-2-2-2zM9 17H7v-7h2v7zm4 0h-2V7h2v10zm4 0h-2v-4h2v4z\"/>\n",
              "    </g>\n",
              "</svg>\n",
              "  </button>\n",
              "\n",
              "<style>\n",
              "  .colab-df-quickchart {\n",
              "      --bg-color: #E8F0FE;\n",
              "      --fill-color: #1967D2;\n",
              "      --hover-bg-color: #E2EBFA;\n",
              "      --hover-fill-color: #174EA6;\n",
              "      --disabled-fill-color: #AAA;\n",
              "      --disabled-bg-color: #DDD;\n",
              "  }\n",
              "\n",
              "  [theme=dark] .colab-df-quickchart {\n",
              "      --bg-color: #3B4455;\n",
              "      --fill-color: #D2E3FC;\n",
              "      --hover-bg-color: #434B5C;\n",
              "      --hover-fill-color: #FFFFFF;\n",
              "      --disabled-bg-color: #3B4455;\n",
              "      --disabled-fill-color: #666;\n",
              "  }\n",
              "\n",
              "  .colab-df-quickchart {\n",
              "    background-color: var(--bg-color);\n",
              "    border: none;\n",
              "    border-radius: 50%;\n",
              "    cursor: pointer;\n",
              "    display: none;\n",
              "    fill: var(--fill-color);\n",
              "    height: 32px;\n",
              "    padding: 0;\n",
              "    width: 32px;\n",
              "  }\n",
              "\n",
              "  .colab-df-quickchart:hover {\n",
              "    background-color: var(--hover-bg-color);\n",
              "    box-shadow: 0 1px 2px rgba(60, 64, 67, 0.3), 0 1px 3px 1px rgba(60, 64, 67, 0.15);\n",
              "    fill: var(--button-hover-fill-color);\n",
              "  }\n",
              "\n",
              "  .colab-df-quickchart-complete:disabled,\n",
              "  .colab-df-quickchart-complete:disabled:hover {\n",
              "    background-color: var(--disabled-bg-color);\n",
              "    fill: var(--disabled-fill-color);\n",
              "    box-shadow: none;\n",
              "  }\n",
              "\n",
              "  .colab-df-spinner {\n",
              "    border: 2px solid var(--fill-color);\n",
              "    border-color: transparent;\n",
              "    border-bottom-color: var(--fill-color);\n",
              "    animation:\n",
              "      spin 1s steps(1) infinite;\n",
              "  }\n",
              "\n",
              "  @keyframes spin {\n",
              "    0% {\n",
              "      border-color: transparent;\n",
              "      border-bottom-color: var(--fill-color);\n",
              "      border-left-color: var(--fill-color);\n",
              "    }\n",
              "    20% {\n",
              "      border-color: transparent;\n",
              "      border-left-color: var(--fill-color);\n",
              "      border-top-color: var(--fill-color);\n",
              "    }\n",
              "    30% {\n",
              "      border-color: transparent;\n",
              "      border-left-color: var(--fill-color);\n",
              "      border-top-color: var(--fill-color);\n",
              "      border-right-color: var(--fill-color);\n",
              "    }\n",
              "    40% {\n",
              "      border-color: transparent;\n",
              "      border-right-color: var(--fill-color);\n",
              "      border-top-color: var(--fill-color);\n",
              "    }\n",
              "    60% {\n",
              "      border-color: transparent;\n",
              "      border-right-color: var(--fill-color);\n",
              "    }\n",
              "    80% {\n",
              "      border-color: transparent;\n",
              "      border-right-color: var(--fill-color);\n",
              "      border-bottom-color: var(--fill-color);\n",
              "    }\n",
              "    90% {\n",
              "      border-color: transparent;\n",
              "      border-bottom-color: var(--fill-color);\n",
              "    }\n",
              "  }\n",
              "</style>\n",
              "\n",
              "  <script>\n",
              "    async function quickchart(key) {\n",
              "      const quickchartButtonEl =\n",
              "        document.querySelector('#' + key + ' button');\n",
              "      quickchartButtonEl.disabled = true;  // To prevent multiple clicks.\n",
              "      quickchartButtonEl.classList.add('colab-df-spinner');\n",
              "      try {\n",
              "        const charts = await google.colab.kernel.invokeFunction(\n",
              "            'suggestCharts', [key], {});\n",
              "      } catch (error) {\n",
              "        console.error('Error during call to suggestCharts:', error);\n",
              "      }\n",
              "      quickchartButtonEl.classList.remove('colab-df-spinner');\n",
              "      quickchartButtonEl.classList.add('colab-df-quickchart-complete');\n",
              "    }\n",
              "    (() => {\n",
              "      let quickchartButtonEl =\n",
              "        document.querySelector('#df-94d97a26-f51b-4563-9fc1-2f95e341933d button');\n",
              "      quickchartButtonEl.style.display =\n",
              "        google.colab.kernel.accessAllowed ? 'block' : 'none';\n",
              "    })();\n",
              "  </script>\n",
              "</div>\n",
              "    </div>\n",
              "  </div>\n"
            ],
            "application/vnd.google.colaboratory.intrinsic+json": {
              "type": "dataframe",
              "variable_name": "data",
              "summary": "{\n  \"name\": \"data\",\n  \"rows\": 100,\n  \"fields\": [\n    {\n      \"column\": \"rrg_mean_\\u043b\\u0435\\u0436\\u0430\",\n      \"properties\": {\n        \"dtype\": \"number\",\n        \"std\": 0.14625585182044354,\n        \"min\": 0.5020075700227101,\n        \"max\": 1.232696629213483,\n        \"num_unique_values\": 99,\n        \"samples\": [\n          0.7504144144144144,\n          1.1860386643233742,\n          0.7425343855693347\n        ],\n        \"semantic_type\": \"\",\n        \"description\": \"\"\n      }\n    },\n    {\n      \"column\": \"rrg_mean_\\u0441\\u0442\\u043e\\u044f\",\n      \"properties\": {\n        \"dtype\": \"number\",\n        \"std\": 0.13438589822536956,\n        \"min\": 0.4382805805114029,\n        \"max\": 1.1387275922671352,\n        \"num_unique_values\": 78,\n        \"samples\": [\n          0.6046532110091742,\n          0.8527596899224807,\n          0.6617205588822355\n        ],\n        \"semantic_type\": \"\",\n        \"description\": \"\"\n      }\n    },\n    {\n      \"column\": \"rrg_median_\\u043b\\u0435\\u0436\\u0430\",\n      \"properties\": {\n        \"dtype\": \"number\",\n        \"std\": 0.14765192484045342,\n        \"min\": 0.504,\n        \"max\": 1.232,\n        \"num_unique_values\": 69,\n        \"samples\": [\n          0.988,\n          0.912,\n          0.836\n        ],\n        \"semantic_type\": \"\",\n        \"description\": \"\"\n      }\n    },\n    {\n      \"column\": \"rrg_median_\\u0441\\u0442\\u043e\\u044f\",\n      \"properties\": {\n        \"dtype\": \"number\",\n        \"std\": 0.13659808445364,\n        \"min\": 0.424,\n        \"max\": 1.132,\n        \"num_unique_values\": 62,\n        \"samples\": [\n          0.616,\n          0.456,\n          0.852\n        ],\n        \"semantic_type\": \"\",\n        \"description\": \"\"\n      }\n    },\n    {\n      \"column\": \"rrg_std_\\u043b\\u0435\\u0436\\u0430\",\n      \"properties\": {\n        \"dtype\": \"number\",\n        \"std\": 0.040741808277024845,\n        \"min\": 0.0101564997959872,\n        \"max\": 0.2714183253751451,\n        \"num_unique_values\": 99,\n        \"samples\": [\n          0.0262673681307822,\n          0.0516134595494579,\n          0.0451421469643496\n        ],\n        \"semantic_type\": \"\",\n        \"description\": \"\"\n      }\n    },\n    {\n      \"column\": \"rrg_std_\\u0441\\u0442\\u043e\\u044f\",\n      \"properties\": {\n        \"dtype\": \"number\",\n        \"std\": 0.03950932199777328,\n        \"min\": 0.010151559968367,\n        \"max\": 0.3454281331788346,\n        \"num_unique_values\": 78,\n        \"samples\": [\n          0.0250563169859669,\n          0.0289379338128658,\n          0.0194590621918334\n        ],\n        \"semantic_type\": \"\",\n        \"description\": \"\"\n      }\n    },\n    {\n      \"column\": \"rrg_min_\\u043b\\u0435\\u0436\\u0430\",\n      \"properties\": {\n        \"dtype\": \"number\",\n        \"std\": 0.1958496392953564,\n        \"min\": 0.2,\n        \"max\": 1.092,\n        \"num_unique_values\": 74,\n        \"samples\": [\n          0.652,\n          0.2,\n          0.572\n        ],\n        \"semantic_type\": \"\",\n        \"description\": \"\"\n      }\n    },\n    {\n      \"column\": \"rrg_min_\\u0441\\u0442\\u043e\\u044f\",\n      \"properties\": {\n        \"dtype\": \"number\",\n        \"std\": 0.12590770074714516,\n        \"min\": 0.32,\n        \"max\": 0.912,\n        \"num_unique_values\": 58,\n        \"samples\": [\n          0.636,\n          0.652,\n          0.504\n        ],\n        \"semantic_type\": \"\",\n        \"description\": \"\"\n      }\n    },\n    {\n      \"column\": \"rrg_max_\\u043b\\u0435\\u0436\\u0430\",\n      \"properties\": {\n        \"dtype\": \"number\",\n        \"std\": 0.4129175836763203,\n        \"min\": 0.528,\n        \"max\": 3.18,\n        \"num_unique_values\": 82,\n        \"samples\": [\n          1.36,\n          0.948,\n          1.1\n        ],\n        \"semantic_type\": \"\",\n        \"description\": \"\"\n      }\n    },\n    {\n      \"column\": \"rrg_max_\\u0441\\u0442\\u043e\\u044f\",\n      \"properties\": {\n        \"dtype\": \"number\",\n        \"std\": 0.9604174954989628,\n        \"min\": 0.5,\n        \"max\": 9.204,\n        \"num_unique_values\": 67,\n        \"samples\": [\n          0.656,\n          0.888,\n          0.82\n        ],\n        \"semantic_type\": \"\",\n        \"description\": \"\"\n      }\n    },\n    {\n      \"column\": \"rrg_trim_mean_\\u043b\\u0435\\u0436\\u0430\",\n      \"properties\": {\n        \"dtype\": \"number\",\n        \"std\": 0.14683164550919858,\n        \"min\": 0.5024938505203406,\n        \"max\": 1.2330934579439252,\n        \"num_unique_values\": 99,\n        \"samples\": [\n          0.7500056179775281,\n          1.1888577680525163,\n          0.7403600562587905\n        ],\n        \"semantic_type\": \"\",\n        \"description\": \"\"\n      }\n    },\n    {\n      \"column\": \"rrg_trim_mean_\\u0441\\u0442\\u043e\\u044f\",\n      \"properties\": {\n        \"dtype\": \"number\",\n        \"std\": 0.13560725275636007,\n        \"min\": 0.4313201035375323,\n        \"max\": 1.1359037199124729,\n        \"num_unique_values\": 78,\n        \"samples\": [\n          0.6039770642201834,\n          0.8528774193548389,\n          0.6613117206982543\n        ],\n        \"semantic_type\": \"\",\n        \"description\": \"\"\n      }\n    },\n    {\n      \"column\": \"rrg_iqr_\\u043b\\u0435\\u0436\\u0430\",\n      \"properties\": {\n        \"dtype\": \"number\",\n        \"std\": 0.02737050502739299,\n        \"min\": 0.012,\n        \"max\": 0.155,\n        \"num_unique_values\": 45,\n        \"samples\": [\n          0.096,\n          0.024,\n          0.0799999999999998\n        ],\n        \"semantic_type\": \"\",\n        \"description\": \"\"\n      }\n    },\n    {\n      \"column\": \"rrg_iqr_\\u0441\\u0442\\u043e\\u044f\",\n      \"properties\": {\n        \"dtype\": \"number\",\n        \"std\": 0.022707980658550286,\n        \"min\": 0.016,\n        \"max\": 0.1319999999999999,\n        \"num_unique_values\": 37,\n        \"samples\": [\n          0.064,\n          0.0279999999999999,\n          0.036\n        ],\n        \"semantic_type\": \"\",\n        \"description\": \"\"\n      }\n    },\n    {\n      \"column\": \"rrg_mad_\\u043b\\u0435\\u0436\\u0430\",\n      \"properties\": {\n        \"dtype\": \"number\",\n        \"std\": 0.013080944580232384,\n        \"min\": 0.008,\n        \"max\": 0.072,\n        \"num_unique_values\": 29,\n        \"samples\": [\n          0.0559999999999999,\n          0.0439999999999999,\n          0.032\n        ],\n        \"semantic_type\": \"\",\n        \"description\": \"\"\n      }\n    },\n    {\n      \"column\": \"rrg_mad_\\u0441\\u0442\\u043e\\u044f\",\n      \"properties\": {\n        \"dtype\": \"number\",\n        \"std\": 0.011560994983061663,\n        \"min\": 0.008,\n        \"max\": 0.068,\n        \"num_unique_values\": 25,\n        \"samples\": [\n          0.036,\n          0.0399999999999999,\n          0.016\n        ],\n        \"semantic_type\": \"\",\n        \"description\": \"\"\n      }\n    },\n    {\n      \"column\": \"patient\",\n      \"properties\": {\n        \"dtype\": \"category\",\n        \"num_unique_values\": 2,\n        \"samples\": [\n          \"H\",\n          \"AG\"\n        ],\n        \"semantic_type\": \"\",\n        \"description\": \"\"\n      }\n    },\n    {\n      \"column\": \"rrg_mean_\\u043b\\u0435\\u0436\\u0430/rrg_mean_\\u0441\\u0442\\u043e\\u044f \\u0432 %\",\n      \"properties\": {\n        \"dtype\": \"number\",\n        \"std\": 15.602041536201954,\n        \"min\": -3.5,\n        \"max\": 80.80000000000001,\n        \"num_unique_values\": 71,\n        \"samples\": [\n          9.5,\n          6.8999999999999915\n        ],\n        \"semantic_type\": \"\",\n        \"description\": \"\"\n      }\n    },\n    {\n      \"column\": \"rrg_median_\\u043b\\u0435\\u0436\\u0430/rrg_median_\\u0441\\u0442\\u043e\\u044f \\u0432 %\",\n      \"properties\": {\n        \"dtype\": \"number\",\n        \"std\": 16.03955391652027,\n        \"min\": -3.799999999999997,\n        \"max\": 82.20000000000002,\n        \"num_unique_values\": 76,\n        \"samples\": [\n          9.600000000000009,\n          23.400000000000006\n        ],\n        \"semantic_type\": \"\",\n        \"description\": \"\"\n      }\n    },\n    {\n      \"column\": \"rrg_trim_mean_\\u043b\\u0435\\u0436\\u0430/rrg_trim_mean_\\u0441\\u0442\\u043e\\u044f \\u0432 %\",\n      \"properties\": {\n        \"dtype\": \"number\",\n        \"std\": 15.602041536201954,\n        \"min\": -3.5,\n        \"max\": 80.80000000000001,\n        \"num_unique_values\": 71,\n        \"samples\": [\n          9.5,\n          6.8999999999999915\n        ],\n        \"semantic_type\": \"\",\n        \"description\": \"\"\n      }\n    }\n  ]\n}"
            }
          },
          "metadata": {},
          "execution_count": 241
        }
      ]
    },
    {
      "cell_type": "markdown",
      "source": [
        "Чтобы проанализировать и выдвинуть гипотезу, строим графики распределения значений(Boxplot'ы).\n",
        "1. Изменения среднего показателя rrg в процентах у разных групп здоровья пациентов.\n",
        "2. Изменения медианы rrg в процентах у разных групп здоровья пациентов.\n",
        "3. Изменения среднего усеченного показателя rrg в процентах у разных групп здоровья пациентов."
      ],
      "metadata": {
        "id": "k2R_9Ct1NOMm"
      }
    },
    {
      "cell_type": "code",
      "source": [
        "sns.boxplot(data=data, x='patient', y=data['rrg_mean_лежа/rrg_mean_стоя в %'])"
      ],
      "metadata": {
        "colab": {
          "base_uri": "https://localhost:8080/",
          "height": 487
        },
        "id": "kryvo25M_p8t",
        "outputId": "06bdae8c-f61e-43e5-a149-05db03d68cda"
      },
      "execution_count": null,
      "outputs": [
        {
          "output_type": "execute_result",
          "data": {
            "text/plain": [
              "<Axes: xlabel='patient', ylabel='rrg_mean_лежа/rrg_mean_стоя в %'>"
            ]
          },
          "metadata": {},
          "execution_count": 242
        },
        {
          "output_type": "display_data",
          "data": {
            "text/plain": [
              "<Figure size 640x480 with 1 Axes>"
            ],
            "image/png": "[encoded data removed]"
          },
          "metadata": {}
        }
      ]
    },
    {
      "cell_type": "code",
      "source": [
        "sns.boxplot(data=data, x='patient', y=data['rrg_median_лежа/rrg_median_стоя в %'])"
      ],
      "metadata": {
        "colab": {
          "base_uri": "https://localhost:8080/",
          "height": 487
        },
        "id": "hOt9JyXqBK8U",
        "outputId": "7df3a13c-4366-4691-a677-d231e8849dcd"
      },
      "execution_count": null,
      "outputs": [
        {
          "output_type": "execute_result",
          "data": {
            "text/plain": [
              "<Axes: xlabel='patient', ylabel='rrg_median_лежа/rrg_median_стоя в %'>"
            ]
          },
          "metadata": {},
          "execution_count": 243
        },
        {
          "output_type": "display_data",
          "data": {
            "text/plain": [
              "<Figure size 640x480 with 1 Axes>"
            ],
            "image/png": "[encoded data removed]"
          },
          "metadata": {}
        }
      ]
    },
    {
      "cell_type": "code",
      "source": [
        "sns.boxplot(data=data, x='patient', y=data['rrg_trim_mean_лежа/rrg_trim_mean_стоя в %'])"
      ],
      "metadata": {
        "colab": {
          "base_uri": "https://localhost:8080/",
          "height": 487
        },
        "id": "BiW_9si7CD7J",
        "outputId": "3394dc44-b513-4e94-8281-1175905904e4"
      },
      "execution_count": null,
      "outputs": [
        {
          "output_type": "execute_result",
          "data": {
            "text/plain": [
              "<Axes: xlabel='patient', ylabel='rrg_trim_mean_лежа/rrg_trim_mean_стоя в %'>"
            ]
          },
          "metadata": {},
          "execution_count": 244
        },
        {
          "output_type": "display_data",
          "data": {
            "text/plain": [
              "<Figure size 640x480 with 1 Axes>"
            ],
            "image/png": "[encoded data removed]"
          },
          "metadata": {}
        }
      ]
    },
    {
      "cell_type": "markdown",
      "source": [
        "Для того, чтобы понять соответствуют ли данные логарифмически нормальному распределению, проведем тест Шапиро-Уилка."
      ],
      "metadata": {
        "id": "Ba8GCK7xSJ1t"
      }
    },
    {
      "cell_type": "code",
      "source": [
        "print(shapiro(data[data['patient'] == 'H']['rrg_mean_лежа'].dropna()))\n",
        "print(shapiro(data[data['patient'] == 'H']['rrg_mean_стоя'].dropna()))\n",
        "print(shapiro(data[data['patient'] == 'AG']['rrg_mean_лежа'].dropna()))\n",
        "print(shapiro(data[data['patient'] == 'AG']['rrg_mean_стоя'].dropna()))"
      ],
      "metadata": {
        "colab": {
          "base_uri": "https://localhost:8080/"
        },
        "id": "wOliu80rSWtW",
        "outputId": "eeff6ec6-eb4d-474b-b042-828401b0b508"
      },
      "execution_count": null,
      "outputs": [
        {
          "output_type": "stream",
          "name": "stdout",
          "text": [
            "ShapiroResult(statistic=0.9772944312060687, pvalue=0.6534983006455399)\n",
            "ShapiroResult(statistic=0.9537492276935854, pvalue=0.5513059454515357)\n",
            "ShapiroResult(statistic=0.9799072057065423, pvalue=0.3809664046541219)\n",
            "ShapiroResult(statistic=0.9739790150616071, pvalue=0.20210727240312992)\n"
          ]
        }
      ]
    },
    {
      "cell_type": "markdown",
      "source": [
        "Поскольку все p-значение наших тестов больше, чем альфа = 0,05, данные о здоровых(H) и гипертониках(AG) соответствуют логарифмически нормальному распределению, мы можем проводить T-тесты."
      ],
      "metadata": {
        "id": "FmpIJ71oSjYH"
      }
    },
    {
      "cell_type": "markdown",
      "source": [
        "1. На графиках видно, что rrg в положении лежа в среднем больше, чем rrg в положении стоя, у групп гипертоников(AG) и здоровых(H). Но у здоровых показатель изменичивости вариабильности ЧСС выше, чем у гипертоников, тоесть у здоровых разброс значений ЧСС больше.\n",
        "\n",
        "2. Исходя из значений в графиках предположим, что при переходе из положения лежа в положение стоя, rrg становиться меньше, то есть ЧСС увеличивается.\n",
        "\n",
        "*   H0(нулевая гипотеза) - При переходе из положения лежа в положение стоя, rrg не изменяется, то есть ЧСС тоже не изменяется.\n",
        "*   H1(альтернативная гипотеза) - При переходе из положения лежа в положение стоя, rrg изменяется, то есть ЧСС тоже изменяется.\n",
        "\n",
        "Также на графиках видно, что rrg в положении лежа в среднем больше, чем rrg в положении стоя, значит если нулевая гипотеза отвергается, сразу можно сказать что при переходе из положения лежа в положение стоя, rrg становиться меньше, то есть ЧСС увеличивается.\n",
        "\n",
        "**Мы будем использовать T-критерий. Тестироваться данные будут на разных группах пациентов.**"
      ],
      "metadata": {
        "id": "J0s0mI0s_RNr"
      }
    },
    {
      "cell_type": "code",
      "source": [
        "rrg_mean_лежа_AG = data[data['patient'] == 'AG']['rrg_mean_лежа'].dropna()\n",
        "rrg_mean_стоя_AG = data[data['patient'] == 'AG']['rrg_mean_стоя'].dropna()\n",
        "stats.ttest_ind(a=rrg_mean_стоя_AG, b=rrg_mean_лежа_AG)"
      ],
      "metadata": {
        "colab": {
          "base_uri": "https://localhost:8080/"
        },
        "id": "vhfBDo9U0kXs",
        "outputId": "4618e2b6-e326-4113-db03-bbc0475e8b61"
      },
      "execution_count": null,
      "outputs": [
        {
          "output_type": "execute_result",
          "data": {
            "text/plain": [
              "TtestResult(statistic=-6.9780135869700874, pvalue=1.5521267302490208e-10, df=125.0)"
            ]
          },
          "metadata": {},
          "execution_count": 246
        }
      ]
    },
    {
      "cell_type": "markdown",
      "source": [
        "Поскольку p-значение нашего теста (1.5521267302490208e-10) меньше, чем альфа = 0,05, мы можем отвергнуть нулевую гипотезу теста. У нас есть данные, чтобы сказать, что у гипертоников при переходе из положения лежа в положение стоя, rrg становиться меньше, то есть ЧСС увеличивается. Это подтверждает и графики, и тест.\n"
      ],
      "metadata": {
        "id": "tZX57TNn39dm"
      }
    },
    {
      "cell_type": "code",
      "source": [
        "rrg_mean_лежа_H = data[data['patient'] == 'H']['rrg_mean_лежа'].dropna()\n",
        "rrg_mean_стоя_H = data[data['patient'] == 'H']['rrg_mean_стоя'].dropna()\n",
        "stats.ttest_ind(a=rrg_mean_стоя_H, b=rrg_mean_лежа_H)"
      ],
      "metadata": {
        "colab": {
          "base_uri": "https://localhost:8080/"
        },
        "id": "95h_cL487Tz-",
        "outputId": "22ffbc8d-0b4f-4729-b028-7786b5e3eb44"
      },
      "execution_count": null,
      "outputs": [
        {
          "output_type": "execute_result",
          "data": {
            "text/plain": [
              "TtestResult(statistic=-5.656295326106736, pvalue=7.450057399992547e-07, df=50.0)"
            ]
          },
          "metadata": {},
          "execution_count": 247
        }
      ]
    },
    {
      "cell_type": "markdown",
      "source": [
        "Поскольку p-значение нашего теста (7.450057399992547e-07) меньше, чем альфа = 0,05, мы можем отвергнуть нулевую гипотезу теста. У нас есть данные, чтобы сказать, что у здоровых при переходе из положения лежа в положение стоя, rrg становиться меньше, то есть ЧСС увеличивается. Это подтверждает и графики, и тест."
      ],
      "metadata": {
        "id": "HxRRMczO78JT"
      }
    },
    {
      "cell_type": "markdown",
      "source": [
        "Следовательно, мы можем сказать, что при переходе из положения лежа в положение стоя, что у здоровых, что у гипертоников в среднем rrg становится меньше, то есть ЧСС увеличивается."
      ],
      "metadata": {
        "id": "Q0nXkeJsnl6O"
      }
    },
    {
      "cell_type": "markdown",
      "source": [
        "Исходя из первичного анализа данных, мы можем выделить, что в среднем rrg и ЧСС гипертоников(AG) в положении лежа и стоя в среднем больше, чем rrg здоровых(H). Чтобы подтвердить наши предположения, проведем Т-тесты.\n",
        "\n",
        "*   H0(нулевая гипотеза) - различие rrg и следовательно ЧСС в группах не значительны.\n",
        "*   H1(альтернативная гипотеза) - различия rrg и следовательно ЧСС в группах есть.\n",
        "\n",
        "Исходя из анализа и тестов, если нулевая гипотеза отврегается, мы можем быть уверены, что в среднем rrg и ЧСС у гипертоников(AG) больше, чем у здоровых(H).\n",
        "\n"
      ],
      "metadata": {
        "id": "fWEZ3B-kkyMV"
      }
    },
    {
      "cell_type": "code",
      "source": [
        "stats.ttest_ind(a=rrg_mean_стоя_H, b=rrg_mean_стоя_AG)"
      ],
      "metadata": {
        "id": "APyxUBWMirXV",
        "colab": {
          "base_uri": "https://localhost:8080/"
        },
        "outputId": "fe3a5239-76fc-460f-d757-a6fb9898f8d7"
      },
      "execution_count": null,
      "outputs": [
        {
          "output_type": "execute_result",
          "data": {
            "text/plain": [
              "TtestResult(statistic=-4.37425837129357, pvalue=3.7760718085060494e-05, df=77.0)"
            ]
          },
          "metadata": {},
          "execution_count": 249
        }
      ]
    },
    {
      "cell_type": "markdown",
      "source": [
        "Поскольку p-значение нашего теста (3.7760718085060494e-05) меньше, чем альфа = 0,05, мы можем отвергнуть нулевую гипотезу теста. У нас есть данные, чтобы сказать, что в среднем в положении стоя, у здоровых(H) показатель rrg меньше, чем у гипертоников(AG), следовательно ЧСС у здоровых в положении стоя больше."
      ],
      "metadata": {
        "id": "UzN2LUc6oLov"
      }
    },
    {
      "cell_type": "code",
      "source": [
        "stats.ttest_ind(a=rrg_mean_лежа_H, b=rrg_mean_лежа_AG)"
      ],
      "metadata": {
        "colab": {
          "base_uri": "https://localhost:8080/"
        },
        "id": "7BAjQWaNkKkG",
        "outputId": "6e819683-a751-4057-d8f9-8c23f31230fb"
      },
      "execution_count": null,
      "outputs": [
        {
          "output_type": "execute_result",
          "data": {
            "text/plain": [
              "TtestResult(statistic=-3.3615787334247327, pvalue=0.0011061418215916163, df=98.0)"
            ]
          },
          "metadata": {},
          "execution_count": 250
        }
      ]
    },
    {
      "cell_type": "markdown",
      "source": [
        "Поскольку p-значение нашего теста (0.0011061418215916163) меньше, чем альфа = 0,05, мы можем отвергнуть нулевую гипотезу теста. У нас есть данные, чтобы сказать, что в среднем в положении лежа, у здоровых(H) показатель rrg меньше, чем у гипертоников(AG), следовательно ЧСС у здоровых в положении лежа больше."
      ],
      "metadata": {
        "id": "_1hX_PjbpXRs"
      }
    },
    {
      "cell_type": "markdown",
      "source": [
        "После проведения анализа и проверки статистическими тестами, мы можем сказать, что у здоровых, rrg в среднем меньше, чем у гипертоников, в двух положениях, а значит ЧСС больше"
      ],
      "metadata": {
        "id": "taszfQ2qpn8t"
      }
    }
  ]
}